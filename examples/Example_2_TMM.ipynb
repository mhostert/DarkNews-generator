{
 "cells": [
  {
   "attachments": {},
   "cell_type": "markdown",
   "metadata": {},
   "source": [
    "# Example 2 -- Transition Magnetic Moments\n",
    "\n",
    "In this notebook, we explore the case of a transition magnetic moment, making use of the single photon\n",
    "$$ N \\to \\nu \\gamma $$\n",
    "as well as dilepton,\n",
    "$$ N \\to \\nu \\ell^+\\ell^- $$\n",
    "decays of the heavy neutrinos."
   ]
  },
  {
   "cell_type": "code",
   "execution_count": null,
   "metadata": {},
   "outputs": [],
   "source": [
    "%load_ext autoreload\n",
    "%autoreload 2"
   ]
  },
  {
   "cell_type": "code",
   "execution_count": null,
   "metadata": {},
   "outputs": [],
   "source": [
    "import matplotlib.pyplot as plt\n",
    "import numpy as np\n",
    "import pandas as pd\n",
    "\n",
    "import DarkNews as dn\n",
    "from DarkNews import *"
   ]
  },
  {
   "cell_type": "code",
   "execution_count": null,
   "metadata": {},
   "outputs": [],
   "source": [
    "from DarkNews import GenLauncher\n",
    "\n",
    "model_kwargs = {\n",
    "    'm4': 0.140,\n",
    "    'mu_tr_mu4': 1e-6, # GeV^-1\n",
    "    'UD4': 0,\n",
    "    'Umu4': 0,\n",
    "    'epsilon': 0.0,\n",
    "    'gD': 0.0,\n",
    "}\n",
    "\n",
    "# turning off Helicity conserving scattering which is negligible for TMM (but dominant for Z', for instance).\n",
    "# we also ask for the single photon decays, rather than e+e-\n",
    "gen_object = GenLauncher(decay_product='photon', noHC=True, HNLtype=\"dirac\", **model_kwargs)\n",
    "df_photon = gen_object.run()\n",
    "\n",
    "# Now we generate the subleading BR into e^+e^-\n",
    "gen_object = GenLauncher(decay_product='e+e-', noHC=True, HNLtype=\"dirac\", **model_kwargs)\n",
    "df_ee = gen_object.run()"
   ]
  },
  {
   "attachments": {},
   "cell_type": "markdown",
   "metadata": {},
   "source": [
    "Let's look at the columns in the single photon case. We lose the ell_minus and ell_plus columns and gain the photon one."
   ]
  },
  {
   "cell_type": "code",
   "execution_count": null,
   "metadata": {},
   "outputs": [],
   "source": [
    "df_photon.columns.levels[0]"
   ]
  },
  {
   "cell_type": "code",
   "execution_count": null,
   "metadata": {},
   "outputs": [],
   "source": [
    "theta_beam = np.arccos(dn.fourvec.df_cos_azimuthal(df_photon['P_decay_photon']))*dn.const.rad_to_deg\n",
    "\n",
    "fig, ax = dn.plot_tools.std_fig(figsize=(10,4))\n",
    "\n",
    "t_bins = np.linspace(0, 180, 100)\n",
    "_=ax.hist(theta_beam, weights=df_photon['w_event_rate'], bins=t_bins, histtype='step', label=rf'$m_N = {df_photon.attrs[\"model\"].m4}$~GeV, $\\mu^{{\\mu N}}_{{\\rm tr}} = {df_photon.attrs[\"model\"].mu_tr_mu4:.1E}$~GeV')\n",
    "\n",
    "ax.legend(loc='best')\n",
    "ax.set_ylabel('Events')\n",
    "ax.set_xlabel(r'$\\theta_{\\gamma}$ (degrees)')"
   ]
  },
  {
   "cell_type": "code",
   "execution_count": null,
   "metadata": {},
   "outputs": [],
   "source": [
    "egamma = df_photon['P_decay_photon','0']\n",
    "\n",
    "fig, ax = dn.plot_tools.std_fig(figsize=(10,4))\n",
    "\n",
    "t_bins = np.linspace(0, 3, 100)\n",
    "_=ax.hist(egamma, weights=df_photon['w_event_rate'], bins=t_bins, histtype='step', label=rf'$m_N = {df_photon.attrs[\"model\"].m4}$~GeV, $\\mu^{{\\mu N}}_{{\\rm tr}} = {df_photon.attrs[\"model\"].mu_tr_mu4:.1E}$~GeV')\n",
    "\n",
    "ax.legend(loc='best')\n",
    "ax.set_ylabel('Events')\n",
    "ax.set_xlabel(r'$E_{\\gamma}$ (GeV)')"
   ]
  },
  {
   "attachments": {},
   "cell_type": "markdown",
   "metadata": {},
   "source": [
    "#### Now we compute a couple of magnetic moment cases with Z boson contributions included"
   ]
  },
  {
   "cell_type": "code",
   "execution_count": null,
   "metadata": {},
   "outputs": [],
   "source": [
    "model_kwargs = { 'm4': 0.40, 'UD4': 0, 'epsilon': 0}\n",
    "\n",
    "dfs_nomix=[]\n",
    "dfs_mix=[]\n",
    "mutrs = [1e-15, 2e-10, 3e-9,3e-8]\n",
    "for mutr in mutrs:\n",
    "    gen_object = GenLauncher(mu_tr_mu4=mutr, Umu4=1.5e-3, experiment = \"microboone\", decay_product='photon', neval = 10000, noHC=True, HNLtype=\"dirac\", loglevel='ERROR', **model_kwargs)\n",
    "    dfs_mix.append(gen_object.run())\n",
    "\n",
    "    gen_object = GenLauncher(mu_tr_mu4=mutr, Umu4=0.0, experiment = \"microboone\", decay_product='photon', neval = 10000, noHC=True, HNLtype=\"dirac\", loglevel='ERROR', **model_kwargs)\n",
    "    dfs_nomix.append(gen_object.run())\n"
   ]
  },
  {
   "cell_type": "code",
   "execution_count": null,
   "metadata": {},
   "outputs": [],
   "source": [
    "fig, ax = dn.plot_tools.std_fig(figsize=(8,4))\n",
    "\n",
    "for df_mix,df_nomix,mutr in zip(dfs_mix,dfs_nomix,mutrs):\n",
    "    egamma = df_mix['P_decay_photon','0']\n",
    "    _=ax.hist(egamma, weights=df_mix['w_event_rate',''], bins=np.linspace(0,2,30), histtype='step', density=True, label=fr'$\\mu_{{\\rm tr}} = $ {mutr} GeV$^{{-1}}$ -- $|U_{{\\mu}}|=1.5\\times10{{-3}}$')\n",
    "\n",
    "    egamma = df_nomix['P_decay_photon','0']\n",
    "    _=ax.hist(egamma, weights=df_nomix['w_event_rate',''], bins=np.linspace(0,2,30), histtype='step', ls='--', density=True, label=fr'$\\mu_{{\\rm tr}} = $ {mutr} GeV$^{{-1}}$ -- $|U_{{\\mu}}|=0$')\n",
    "\n",
    "ax.legend(loc='best')\n",
    "ax.set_ylabel('Events')\n",
    "ax.set_xlabel(r'$E_{\\gamma}$ (GeV)')\n",
    "dn.plot_tools.std_savefig(fig,'plots/TMM_and_mixing.pdf')"
   ]
  },
  {
   "cell_type": "markdown",
   "metadata": {},
   "source": [
    "## Now let's look at some cross sections for TMM upscattering"
   ]
  },
  {
   "cell_type": "code",
   "execution_count": null,
   "metadata": {},
   "outputs": [],
   "source": [
    "# targets\n",
    "proton = dn.detector.NuclearTarget(\"H1\")\n",
    "C12    = dn.detector.NuclearTarget(\"C12\")\n",
    "Ar40   = dn.detector.NuclearTarget(\"Ar40\")"
   ]
  },
  {
   "cell_type": "code",
   "execution_count": null,
   "metadata": {},
   "outputs": [],
   "source": [
    "common_kwargs = {'nu_projectile': pdg.numu, 'scattering_regime': 'coherent', 'nuclear_target': C12}\n",
    "common_kwargs_pel = {'nu_projectile': pdg.numu, 'scattering_regime': 'p-el', 'nuclear_target': C12}\n",
    "masses = [0.1,0.2,0.4,0.6]\n",
    "\n",
    "Enu_range=np.linspace(0,2,50)\n",
    "\n",
    "# Calculating xsecs in C\n",
    "xsecs_C = []\n",
    "for m in masses:\n",
    "    this_model = dn.model.ThreePortalModel(name='vergani_et_al', m4 = m, Umu4=0.0, epsilon=0.0, mu_tr_mu4=4e-7)\n",
    "    calc = dn.UpscatteringProcess(TheoryModel = this_model, helicity = 'flipping', nu_upscattered= this_model.neutrino4, **common_kwargs)\n",
    "    calc_pel = dn.UpscatteringProcess(TheoryModel = this_model, helicity = 'flipping', nu_upscattered= this_model.neutrino4, **common_kwargs_pel)\n",
    "\n",
    "    xsecs_C.append((calc.total_xsec(Enu_range, NEVAL=10000, NINT=10), calc_pel.total_xsec(Enu_range, NEVAL=10000, NINT=10)))\n",
    "\n",
    "# Now on Argon40\n",
    "common_kwargs = {'nu_projectile': pdg.numu, 'scattering_regime': 'coherent', 'nuclear_target': Ar40}\n",
    "common_kwargs_pel = {'nu_projectile': pdg.numu, 'scattering_regime': 'p-el', 'nuclear_target': Ar40}\n",
    "xsecs_Ar = []\n",
    "for m in masses:\n",
    "    this_model = dn.model.ThreePortalModel(name='vergani_et_al', m4 = m, Umu4=0.0, epsilon=0.0, mu_tr_mu4=4e-7)\n",
    "    calc = dn.UpscatteringProcess(TheoryModel = this_model, helicity = 'flipping', nu_upscattered= this_model.neutrino4, **common_kwargs)\n",
    "    calc_pel = dn.UpscatteringProcess(TheoryModel = this_model, helicity = 'flipping', nu_upscattered= this_model.neutrino4, **common_kwargs_pel)\n",
    "    xsecs_Ar.append((calc.total_xsec(Enu_range, NEVAL=10000, NINT=10), calc_pel.total_xsec(Enu_range, NEVAL=10000, NINT=10)))\n"
   ]
  },
  {
   "cell_type": "code",
   "execution_count": null,
   "metadata": {},
   "outputs": [],
   "source": [
    "fig = plt.figure(figsize=dn.plot_tools.std_figsize)\n",
    "gs = fig.add_gridspec(2, 1, hspace=0, wspace=0, height_ratios=[1.5,1])\n",
    "axs = gs.subplots(sharex='col', sharey='row')\n",
    "\n",
    "colors = ['dodgerblue','darkorange','deeppink','black']\n",
    "\n",
    "mu_tr_norm = (4e-7)**2*dn.const.invGeV2_to_cm2\n",
    "\n",
    "for m, xs, color in zip(masses, xsecs_C, colors):\n",
    "    axs[0].plot(Enu_range, xs[0]/mu_tr_norm, lw=1.0, label=rf'$m_N = {m*1e3:.0f}$~MeV', c=color)\n",
    "    axs[0].plot(Enu_range, xs[1]/mu_tr_norm, lw=1.0, ls='--', c=color)\n",
    "    axs[1].plot(Enu_range, xs[0]/xs[1], ls='-', lw=1.0, c=color)\n",
    "\n",
    "axs[1].hlines(1,0,2, ls='--', lw=0.5, color='grey')\n",
    "\n",
    "for ax in axs.flat:\n",
    "    ax.label_outer()\n",
    "    ax.set_yscale(\"log\")\n",
    "    ax.set_xlim(min(Enu_range), max(Enu_range))\n",
    "\n",
    "    ax.set_xlabel(r'$E_\\nu$/GeV')\n",
    "axs[0].set_ylabel(r'$\\sigma/|\\mu_{\\rm tr}|^2$/Carbon')\n",
    "axs[1].set_ylabel(r'$\\sigma_{\\rm coh}/\\sigma_{\\rm p-el}$ on Carbon')\n",
    "\n",
    "axs[0].set_ylim(1e-4, 10)\n",
    "axs[1].set_ylim(0.005, 50)\n",
    "axs[1].set_yticks([1e-3,1e-2,0.1,1,10,50])\n",
    "\n",
    "proxy, = plt.plot([0,0],[0,0],linestyle='-', lw=1.0, color='black')\n",
    "proxy2, = plt.plot([0,0],[0,0],linestyle='--', lw=1.0, color='black')\n",
    "leg = axs[1].legend([proxy,proxy2], [r\"coherent\",r\"p-elastic\"], frameon=False, ncol=2, loc = (0.2,2.5))\n",
    "axs[0].legend(frameon=False, loc='lower right')\n",
    "\n",
    "plt.savefig(\"plots/example_2_xsec_C.pdf\",dpi=400)"
   ]
  },
  {
   "cell_type": "code",
   "execution_count": null,
   "metadata": {},
   "outputs": [],
   "source": [
    "fig = plt.figure(figsize=dn.plot_tools.std_figsize)\n",
    "gs = fig.add_gridspec(2, 1, hspace=0, wspace=0, height_ratios=[1.5,1])\n",
    "axs = gs.subplots(sharex='col', sharey='row')\n",
    "\n",
    "colors = ['dodgerblue','darkorange','deeppink','black']\n",
    "\n",
    "mu_tr_norm = (4e-7)**2*dn.const.invGeV2_to_cm2\n",
    "\n",
    "for m, xs, color in zip(masses, xsecs_Ar, colors):\n",
    "    axs[0].plot(Enu_range, xs[0]/mu_tr_norm, lw=1.0, label=rf'$m_N = {m*1e3:.0f}$~MeV', c=color)\n",
    "    axs[0].plot(Enu_range, xs[1]/mu_tr_norm, lw=1.0, ls='--', c=color)\n",
    "    axs[1].plot(Enu_range, xs[0]/xs[1], ls='-', lw=1.0, c=color)\n",
    "\n",
    "axs[1].hlines(1,0,2, ls='--', lw=0.5, color='grey')\n",
    "\n",
    "for ax in axs.flat:\n",
    "    ax.label_outer()\n",
    "    ax.set_yscale(\"log\")\n",
    "    ax.set_xlim(min(Enu_range), max(Enu_range))\n",
    "\n",
    "    ax.set_xlabel(r'$E_\\nu$/GeV')\n",
    "axs[0].set_ylabel(r'$\\sigma/|\\mu_{\\rm tr}|^2$/Argon')\n",
    "axs[1].set_ylabel(r'$\\sigma_{\\rm coh}/\\sigma_{\\rm p-el}$ on Argon')\n",
    "\n",
    "axs[0].set_ylim(1e-4, 100)\n",
    "axs[1].set_ylim(0.005, 50)\n",
    "axs[1].set_yticks([1e-3,1e-2,0.1,1,10,50])\n",
    "\n",
    "proxy, = plt.plot([0,0],[0,0],linestyle='-', lw=1.0, color='black')\n",
    "proxy2, = plt.plot([0,0],[0,0],linestyle='--', lw=1.0, color='black')\n",
    "leg = axs[1].legend([proxy,proxy2], [r\"coherent\",r\"p-elastic\"], frameon=False, ncol=2, loc = (0.2,2.5))\n",
    "axs[0].legend(frameon=False, loc='lower right')\n",
    "\n",
    "plt.savefig(\"plots/example_2_xsec_Ar.pdf\",dpi=400)"
   ]
  },
  {
   "cell_type": "code",
   "execution_count": null,
   "metadata": {},
   "outputs": [],
   "source": [
    "fig, ax = dn.plot_tools.std_fig()\n",
    "axs = [ax]\n",
    "colors = ['dodgerblue','darkorange','deeppink','black']\n",
    "ratio = 1/(18/6)**2\n",
    "for m, xs_C, xs_Ar, color in zip(masses, xsecs_C, xsecs_Ar, colors):\n",
    "    axs[0].plot(Enu_range, ratio*xs_Ar[0]/xs_C[0], lw=1.0, label=rf'$m_N = {m*1e3:.0f}$~MeV', c=color)\n",
    "    # axs[0].plot(Enu_range, xs_Ar[1]/xs_C[1], lw=1.0, ls='--', c=color)\n",
    "ax.set_xlim(min(Enu_range), max(Enu_range))\n",
    "ax.set_ylim(0,1.2)\n",
    "\n",
    "ax.set_xlabel(r'$E_\\nu$/GeV')\n",
    "ax.set_ylabel(r'$(6/18)^2 \\times \\sigma_{\\rm Argon}^{\\rm coh}/\\sigma_{\\rm Carbon}^{\\rm coh}$')\n",
    "\n",
    "proxy, = plt.plot([0,0],[0,0],linestyle='-', lw=1.0, color='black')\n",
    "proxy2, = plt.plot([0,0],[0,0],linestyle='--', lw=1.0, color='black')\n",
    "leg = ax.legend([proxy,proxy2], [r\"coherent\",r\"p-elastic\"], frameon=False, ncol=2, loc = (0.2,1.05))\n",
    "ax.legend(frameon=False, loc='upper left', ncol=2)\n",
    "\n",
    "plt.savefig(\"plots/example_2_xsec_CtoAr.pdf\",dpi=400)"
   ]
  }
 ],
 "metadata": {
  "kernelspec": {
   "display_name": "darknews",
   "language": "python",
   "name": "python3"
  },
  "language_info": {
   "codemirror_mode": {
    "name": "ipython",
    "version": 3
   },
   "file_extension": ".py",
   "mimetype": "text/x-python",
   "name": "python",
   "nbconvert_exporter": "python",
   "pygments_lexer": "ipython3",
   "version": "3.11.8"
  },
  "orig_nbformat": 4
 },
 "nbformat": 4,
 "nbformat_minor": 2
}
