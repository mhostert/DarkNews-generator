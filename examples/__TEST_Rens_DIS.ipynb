{
 "cells": [
  {
   "cell_type": "markdown",
   "id": "chinese-isaac",
   "metadata": {},
   "source": [
    "# Rens' his place to play around in.\n",
    "\n",
    "The contruction of DIS"
   ]
  },
  {
   "cell_type": "code",
   "execution_count": 2,
   "id": "compact-danger",
   "metadata": {},
   "outputs": [],
   "source": [
    "%load_ext autoreload\n",
    "%autoreload 2"
   ]
  },
  {
   "cell_type": "code",
   "execution_count": 3,
   "id": "professional-latitude",
   "metadata": {},
   "outputs": [],
   "source": [
    "import matplotlib.pyplot as plt\n",
    "\n",
    "import numpy as np\n",
    "import pandas as pd\n",
    "import DarkNews as dn\n",
    "\n",
    "from DarkNews import pdg\n",
    "from DarkNews import model as Theorymodel\n",
    "import matplotlib.pyplot as plt\n",
    "from ToyAnalysis import analysis_decay as a_d\n"
   ]
  },
  {
   "cell_type": "code",
   "execution_count": 12,
   "id": "4dd27f5d",
   "metadata": {},
   "outputs": [
    {
     "name": "stdout",
     "output_type": "stream",
     "text": [
      "Initializing the three-portal model.\n",
      "---------------------------------------------------------\n",
      "   ______           _        _   _                     \n",
      "   |  _  \\         | |      | \\ | |                    \n",
      "   | | | |__ _ _ __| | __   |  \\| | _____      _____   \n",
      "   | | | / _  | ___| |/ /   | .   |/ _ \\ \\ /\\ / / __|  \n",
      "   | |/ / (_| | |  |   <    | |\\  |  __/\\ V  V /\\__ \\  \n",
      "   |___/ \\__,_|_|  |_|\\_\\   \\_| \\_/\\___| \\_/\\_/ |___/  \n",
      "\n",
      "---------------------------------------------------------\n",
      "Model:\n",
      "\t2 dirac heavy neutrino(s).\n",
      "\n",
      "---------------------------------------------------------\n",
      "Experiment:\n",
      "\tminiboone_fhc\n",
      "\tfluxfile loaded: MiniBooNE_FHC.dat\n",
      "\tPOT: 1.875e+21\n",
      "\tnuclear targets: ['C12', 'H1']\n",
      "\tfiducial mass: [701.1428571428571, 116.85714285714286] tonnes\n",
      "\n",
      "Directory tree for this run already exists. Overriding it.\n",
      "---------------------------------------------------------\n",
      "Generating Events using the neutrino-nucleus upscattering engine\n",
      "\n",
      "nu(mu) C12 --> N5  C12 --> N4 e+ e- C12\n",
      "Helicity conserving upscattering.\n",
      "N5 three-body decays.\n",
      "Parent N5 proper decay length: 1.186E+01 cm.\n",
      "\n",
      "Predicted (3.78e+03 +/- 63.4) events.\n",
      "\n",
      "nu(mu) C12 --> N5  C12 --> N4 e+ e- C12\n",
      "Helicity flipping upscattering.\n",
      "N5 three-body decays.\n",
      "Parent N5 proper decay length: 1.188E+01 cm.\n",
      "\n",
      "Predicted (7.28 +/- 0.125) events.\n",
      "\n",
      "nu(mu) proton_in_C12 --> N5  proton_in_C12 --> N4 e+ e- proton_in_C12\n",
      "Helicity conserving upscattering.\n",
      "N5 three-body decays.\n",
      "Parent N5 proper decay length: 1.180E+01 cm.\n",
      "\n",
      "Predicted (6.2e+03 +/- 102) events.\n",
      "\n",
      "nu(mu) proton_in_C12 --> N5  proton_in_C12 --> N4 e+ e- proton_in_C12\n",
      "Helicity flipping upscattering.\n",
      "N5 three-body decays.\n",
      "Parent N5 proper decay length: 1.178E+01 cm.\n",
      "\n",
      "Predicted (46.7 +/- 0.792) events.\n",
      "\n",
      "nu(mu) proton_in_H1 --> N5  proton_in_H1 --> N4 e+ e- proton_in_H1\n",
      "Helicity conserving upscattering.\n",
      "N5 three-body decays.\n",
      "Parent N5 proper decay length: 1.182E+01 cm.\n",
      "\n",
      "Predicted (2.07e+03 +/- 34) events.\n",
      "\n",
      "nu(mu) proton_in_H1 --> N5  proton_in_H1 --> N4 e+ e- proton_in_H1\n",
      "Helicity flipping upscattering.\n",
      "N5 three-body decays.\n",
      "Parent N5 proper decay length: 1.183E+01 cm.\n",
      "\n",
      "Predicted (15.5 +/- 0.257) events.\n",
      "\n",
      "---------------------------------------------------------\n",
      "Generation successful\n",
      "\n",
      "Total events predicted:\n",
      "(1.21e+04 +/- 125) events.\n",
      "\n",
      "---------------------------------------------------------\n",
      "Events in pandas dataframe saved to file successfully:\n",
      "data/miniboone_fhc/3plus2/m5_0.146_m4_0.074_mzprime_1.25_dirac/pandas_df.pckl\n",
      "\n",
      "Initializing the three-portal model.\n",
      "---------------------------------------------------------\n",
      "   ______           _        _   _                     \n",
      "   |  _  \\         | |      | \\ | |                    \n",
      "   | | | |__ _ _ __| | __   |  \\| | _____      _____   \n",
      "   | | | / _  | ___| |/ /   | .   |/ _ \\ \\ /\\ / / __|  \n",
      "   | |/ / (_| | |  |   <    | |\\  |  __/\\ V  V /\\__ \\  \n",
      "   |___/ \\__,_|_|  |_|\\_\\   \\_| \\_/\\___| \\_/\\_/ |___/  \n",
      "\n",
      "---------------------------------------------------------\n",
      "Model:\n",
      "\t2 dirac heavy neutrino(s).\n",
      "\n",
      "---------------------------------------------------------\n",
      "Experiment:\n",
      "\tminiboone_fhc\n",
      "\tfluxfile loaded: MiniBooNE_FHC.dat\n",
      "\tPOT: 1.875e+21\n",
      "\tnuclear targets: ['C12', 'H1']\n",
      "\tfiducial mass: [701.1428571428571, 116.85714285714286] tonnes\n",
      "\n",
      "---------------------------------------------------------\n",
      "Generating Events using the neutrino-nucleus upscattering engine\n",
      "\n",
      "nu(mu) C12 --> N5  C12 --> N4 e+ e- C12\n",
      "Helicity conserving upscattering.\n",
      "N5 three-body decays.\n",
      "Parent N5 proper decay length: 7.984E+01 cm.\n",
      "\n",
      "Predicted (1.27e+03 +/- 21.5) events.\n",
      "\n",
      "nu(mu) C12 --> N5  C12 --> N4 e+ e- C12\n",
      "Helicity flipping upscattering.\n",
      "N5 three-body decays.\n",
      "Parent N5 proper decay length: 7.970E+01 cm.\n",
      "\n",
      "Predicted (2.45 +/- 0.0417) events.\n",
      "\n",
      "nu(mu) proton_in_C12 --> N5  proton_in_C12 --> N4 e+ e- proton_in_C12\n",
      "Helicity conserving upscattering.\n",
      "N5 three-body decays.\n",
      "Parent N5 proper decay length: 7.944E+01 cm.\n",
      "\n",
      "Predicted (2.07e+03 +/- 33.8) events.\n",
      "\n",
      "nu(mu) proton_in_C12 --> N5  proton_in_C12 --> N4 e+ e- proton_in_C12\n",
      "Helicity flipping upscattering.\n",
      "N5 three-body decays.\n",
      "Parent N5 proper decay length: 7.893E+01 cm.\n",
      "\n",
      "Predicted (9.49 +/- 0.159) events.\n",
      "\n",
      "nu(mu) proton_in_H1 --> N5  proton_in_H1 --> N4 e+ e- proton_in_H1\n",
      "Helicity conserving upscattering.\n",
      "N5 three-body decays.\n",
      "Parent N5 proper decay length: 7.955E+01 cm.\n",
      "\n",
      "Predicted (681 +/- 11.4) events.\n",
      "\n",
      "nu(mu) proton_in_H1 --> N5  proton_in_H1 --> N4 e+ e- proton_in_H1\n",
      "Helicity flipping upscattering.\n",
      "N5 three-body decays.\n",
      "Parent N5 proper decay length: 7.968E+01 cm.\n",
      "\n",
      "Predicted (3.13 +/- 0.053) events.\n",
      "\n",
      "---------------------------------------------------------\n",
      "Generation successful\n",
      "\n",
      "Total events predicted:\n",
      "(4.04e+03 +/- 41.6) events.\n",
      "\n",
      "---------------------------------------------------------\n",
      "Events in pandas dataframe saved to file successfully:\n",
      "data/miniboone_fhc/3plus2/m5_0.11_m4_0.062_mzprime_1.25_dirac/pandas_df.pckl\n",
      "\n",
      "Initializing the three-portal model.\n",
      "---------------------------------------------------------\n",
      "   ______           _        _   _                     \n",
      "   |  _  \\         | |      | \\ | |                    \n",
      "   | | | |__ _ _ __| | __   |  \\| | _____      _____   \n",
      "   | | | / _  | ___| |/ /   | .   |/ _ \\ \\ /\\ / / __|  \n",
      "   | |/ / (_| | |  |   <    | |\\  |  __/\\ V  V /\\__ \\  \n",
      "   |___/ \\__,_|_|  |_|\\_\\   \\_| \\_/\\___| \\_/\\_/ |___/  \n",
      "\n",
      "---------------------------------------------------------\n",
      "Model:\n",
      "\t2 dirac heavy neutrino(s).\n",
      "\n",
      "---------------------------------------------------------\n",
      "Experiment:\n",
      "\tminiboone_fhc\n",
      "\tfluxfile loaded: MiniBooNE_FHC.dat\n",
      "\tPOT: 1.875e+21\n",
      "\tnuclear targets: ['C12', 'H1']\n",
      "\tfiducial mass: [701.1428571428571, 116.85714285714286] tonnes\n",
      "\n",
      "---------------------------------------------------------\n",
      "Generating Events using the neutrino-nucleus upscattering engine\n",
      "\n",
      "nu(mu) C12 --> N5  C12 --> N4 e+ e- C12\n",
      "Helicity conserving upscattering.\n",
      "N5 three-body decays.\n",
      "Parent N5 proper decay length: 7.148E+00 cm.\n",
      "\n",
      "Predicted (308 +/- 5.08) events.\n",
      "\n",
      "nu(mu) C12 --> N5  C12 --> N4 e+ e- C12\n",
      "Helicity flipping upscattering.\n",
      "N5 three-body decays.\n",
      "Parent N5 proper decay length: 7.220E+00 cm.\n",
      "\n",
      "Predicted (0.22 +/- 0.00379) events.\n",
      "\n",
      "nu(mu) proton_in_C12 --> N5  proton_in_C12 --> N4 e+ e- proton_in_C12\n",
      "Helicity conserving upscattering.\n",
      "N5 three-body decays.\n",
      "Parent N5 proper decay length: 7.175E+00 cm.\n",
      "\n",
      "Predicted (654 +/- 10.6) events.\n",
      "\n",
      "nu(mu) proton_in_C12 --> N5  proton_in_C12 --> N4 e+ e- proton_in_C12\n",
      "Helicity flipping upscattering.\n",
      "N5 three-body decays.\n",
      "Parent N5 proper decay length: 7.199E+00 cm.\n",
      "\n",
      "Predicted (18.6 +/- 0.307) events.\n",
      "\n",
      "nu(mu) proton_in_H1 --> N5  proton_in_H1 --> N4 e+ e- proton_in_H1\n",
      "Helicity conserving upscattering.\n",
      "N5 three-body decays.\n",
      "Parent N5 proper decay length: 7.244E+00 cm.\n",
      "\n",
      "Predicted (217 +/- 3.57) events.\n",
      "\n",
      "nu(mu) proton_in_H1 --> N5  proton_in_H1 --> N4 e+ e- proton_in_H1\n",
      "Helicity flipping upscattering.\n",
      "N5 three-body decays.\n",
      "Parent N5 proper decay length: 7.212E+00 cm.\n",
      "\n",
      "Predicted (6.12 +/- 0.0999) events.\n",
      "\n",
      "---------------------------------------------------------\n",
      "Generation successful\n",
      "\n",
      "Total events predicted:\n",
      "(1.21e+03 +/- 12.3) events.\n",
      "\n",
      "---------------------------------------------------------\n",
      "Events in pandas dataframe saved to file successfully:\n",
      "data/miniboone_fhc/3plus2/m5_0.346_m4_0.275_mzprime_1.25_dirac/pandas_df.pckl\n",
      "\n"
     ]
    }
   ],
   "source": [
    "\n",
    "kwargs = {'epsilon':1e-2, 'alphaD' :0.32, 'mzprime' :1.25, 'UD4': 1/np.sqrt(2),'UD5': 1/np.sqrt(2), 'neval':5000}\n",
    "#kwargs = {'Umu4': 0.004e-8,'Umu5': 157e-8,'UD4': 0.0371,'UD5': 0.557}\n",
    "\n",
    "#Enu_range = np.geomspace(0.01,2e2,50)\n",
    "#my_gen = dn.GenLauncher(mzprime=1.25, m4=0.080, m5=0.120, m6=0.185,neval=1000, HNLtype=\"majorana\", **kwargs)\n",
    "#df = my_gen.run(loglevel=\"INFO\") @dirac\n",
    "\n",
    "\n",
    "gen_object_B = dn.GenLauncher(Umu4= np.sqrt(0.004e-8),Umu5= np.sqrt(157e-8), m4=0.074, m5=0.146,\\\n",
    "                             HNLtype=\"dirac\", **kwargs)\n",
    "df_B = gen_object_B.run(loglevel=\"INFO\")\n",
    "\n",
    "gen_object_C = dn.GenLauncher(Umu4= np.sqrt(0.000256e-8),Umu5= np.sqrt(51.1e-8), m4=0.062, m5=0.110,\\\n",
    "                             HNLtype=\"dirac\", **kwargs)\n",
    "df_C = gen_object_C.run(loglevel=\"INFO\")\n",
    "\n",
    "gen_object_D = dn.GenLauncher(Umu4= np.sqrt(0.0),Umu5= np.sqrt(22.7e-8), m4=0.275, m5=0.346,\\\n",
    "                             HNLtype=\"dirac\", **kwargs)\n",
    "df_D = gen_object_D.run(loglevel=\"INFO\")\n",
    "\n"
   ]
  },
  {
   "cell_type": "code",
   "execution_count": 6,
   "id": "c720ff18",
   "metadata": {},
   "outputs": [
    {
     "name": "stdout",
     "output_type": "stream",
     "text": [
      "{'experiment': <DarkNews.detector.Detector object at 0x7fd86dd537d0>, 'model': <DarkNews.model.ThreePortalModel object at 0x7fd86dd53750>, 'N5_ctau0': 11.84029204826109, 'data_path': PosixPath('data/miniboone_fhc/3plus2/m5_0.146_m4_0.074_mzprime_1.25_dirac')}\n"
     ]
    }
   ],
   "source": [
    "\n"
   ]
  },
  {
   "cell_type": "code",
   "execution_count": 31,
   "id": "8a0c8e32",
   "metadata": {},
   "outputs": [
    {
     "name": "stdout",
     "output_type": "stream",
     "text": [
      "(26858,) [0.17233215 0.44271702 0.24666059 ... 1.36416238 0.19670503 0.70261119]\n",
      "[11.82331748 79.54304457  7.21443606]\n"
     ]
    },
    {
     "data": {
      "image/png": "[encoded data removed]",
      "text/plain": [
       "<Figure size 432x288 with 1 Axes>"
      ]
     },
     "metadata": {
      "needs_background": "light"
     },
     "output_type": "display_data"
    }
   ],
   "source": [
    "from scipy import stats as sc\n",
    "\n",
    "l_decay_proper_cm= np.array([df_B.attrs['N5_ctau0'],df_C.attrs['N5_ctau0'],df_D.attrs['N5_ctau0']])\n",
    "pN_B = np.array(df_B.P_decay_N_daughter)\n",
    "pN_C = np.array(df_C.P_decay_N_daughter)\n",
    "pN_D = np.array(df_D.P_decay_N_daughter)\n",
    "#pNU = df.P_projectile\n",
    "E_NU_B = np.array(df_B.P_projectile['0'])\n",
    "E_NU_C =df_C.P_projectile['0']\n",
    "E_NU_D =df_D.P_projectile['0']\n",
    "print(np.shape(E_NU_B),E_NU_B)\n",
    "#pN_array= np.array(pN)\n",
    "#print(pN.__dict__)\n",
    "print(l_decay_proper_cm)\n",
    "l_decay_lab_cm_B = a_d.get_decay_length_in_lab(pN_B, l_decay_proper_cm[0])\n",
    "l_decay_lab_cm_C = a_d.get_decay_length_in_lab(pN_C, l_decay_proper_cm[1])\n",
    "l_decay_lab_cm_D = a_d.get_decay_length_in_lab(pN_D, l_decay_proper_cm[2])\n",
    "#plt.plot(np.arange(0,len(l_decay_lab_cm),1),l_decay_lab_cm)\n",
    "#plt.show()\n",
    "\n",
    "plt.scatter(E_NU_B,l_decay_lab_cm_B)\n",
    "plt.show()\n"
   ]
  },
  {
   "cell_type": "code",
   "execution_count": null,
   "id": "333df512",
   "metadata": {},
   "outputs": [],
   "source": []
  },
  {
   "cell_type": "code",
   "execution_count": 42,
   "id": "5a03d40c",
   "metadata": {},
   "outputs": [
    {
     "name": "stdout",
     "output_type": "stream",
     "text": [
      "7.079043616979652\n",
      "0.15430839541431393\n",
      "[0.         0.36842105 0.73684211 1.10526316 1.47368421 1.84210526\n",
      " 2.21052632 2.57894737 2.94736842 3.31578947 3.68421053 4.05263158\n",
      " 4.42105263 4.78947368 5.15789474 5.52631579 5.89473684 6.26315789\n",
      " 6.63157895 7.        ]\n"
     ]
    },
    {
     "data": {
      "image/png": "[encoded data removed]",
      "text/plain": [
       "<Figure size 432x288 with 1 Axes>"
      ]
     },
     "metadata": {
      "needs_background": "light"
     },
     "output_type": "display_data"
    },
    {
     "data": {
      "image/png": "[encoded data removed]",
      "text/plain": [
       "<Figure size 432x288 with 1 Axes>"
      ]
     },
     "metadata": {
      "needs_background": "light"
     },
     "output_type": "display_data"
    }
   ],
   "source": [
    "def quant16(arg):\n",
    "    return(np.quantile(arg,0.16))\n",
    "def quant84(arg):\n",
    "    return(np.quantile(arg,0.84))\n",
    "\n",
    "print(np.max(E_NU_B))\n",
    "print(np.min(E_NU_B))\n",
    "erange = np.linspace(0,7,20)\n",
    "print(erange)\n",
    "E_plot = erange[:-1]\n",
    "\n",
    "decay_hist_B = sc.binned_statistic(E_NU_B, l_decay_lab_cm_B,statistic = 'median', bins =erange)[0]\n",
    "decay_Q16_B = sc.binned_statistic(E_NU_B, l_decay_lab_cm_B,statistic = lambda l_decay_lab_cm_B : quant16( l_decay_lab_cm_B), bins =erange)[0]\n",
    "decay_Q84_B = sc.binned_statistic(E_NU_B, l_decay_lab_cm_B,statistic = lambda l_decay_lab_cm_B : quant84( l_decay_lab_cm_B), bins =erange)[0]\n",
    "\n",
    "decay_hist_C = sc.binned_statistic(E_NU_C, l_decay_lab_cm_C,statistic = 'median', bins =erange)[0]\n",
    "decay_Q16_C = sc.binned_statistic(E_NU_C, l_decay_lab_cm_C,statistic = lambda l_decay_lab_cm_C : quant16( l_decay_lab_cm_C), bins =erange)[0]\n",
    "decay_Q84_C = sc.binned_statistic(E_NU_C, l_decay_lab_cm_C,statistic = lambda l_decay_lab_cm_C : quant84( l_decay_lab_cm_C), bins =erange)[0]\n",
    "\n",
    "decay_hist_D = sc.binned_statistic(E_NU_D, l_decay_lab_cm_D,statistic = 'median', bins =erange)[0]\n",
    "decay_Q16_D = sc.binned_statistic(E_NU_D, l_decay_lab_cm_D,statistic = lambda l_decay_lab_cm_D : quant16( l_decay_lab_cm_D), bins =erange)[0]\n",
    "decay_Q84_D = sc.binned_statistic(E_NU_D, l_decay_lab_cm_D,statistic = lambda l_decay_lab_cm_D : quant84( l_decay_lab_cm_D), bins =erange)[0]\n",
    "\n",
    "\n",
    "nr_hist = np.histogram(E_NU_B,  bins =erange)[0]\n",
    "plt.fill_between(E_plot,decay_Q84_B,decay_Q16_B,color='aquamarine')\n",
    "plt.plot(E_plot,decay_hist_B,color='darkgreen',label='3+2 B')\n",
    "plt.fill_between(E_plot,decay_Q84_C,decay_Q16_C,color='pink')\n",
    "plt.plot(E_plot,decay_hist_C,color='red',ls='dashed',label='3+2 C')\n",
    "plt.fill_between(E_plot,decay_Q84_D,decay_Q16_D,color='silver')\n",
    "plt.plot(E_plot,decay_hist_D,color='black',ls='dotted',label='3+2 D')\n",
    "plt.xlabel(r\"$E_{\\nu}$ (GeV)\" )\n",
    "plt.ylabel(r\"$L_{boost}$ (cm)\" )\n",
    "plt.yscale('log')\n",
    "plt.legend()\n",
    "plt.savefig('/home/rverkade/Km3Net_figs/boost_decay.pdf', dpi=800)\n",
    "plt.show()\n",
    "plt.hist(E_NU_B,erange)\n",
    "#plt.hist(E_NU_C,erange, color='red')\n",
    "#plt.hist(E_NU_D,erange, color='k')\n",
    "plt.xlabel(r\"$E_{\\nu}$ (GeV)\" )\n",
    "plt.ylabel(r\"nr of events\" )\n",
    "plt.yscale('log')\n",
    "plt.savefig('/home/rverkade/Km3Net_figs/E_hist.pdf', dpi=800)\n",
    "plt.show()\n"
   ]
  },
  {
   "cell_type": "code",
   "execution_count": 2,
   "id": "8dc3f688",
   "metadata": {},
   "outputs": [
    {
     "name": "stdout",
     "output_type": "stream",
     "text": [
      "Model:\n",
      "\t1 dirac heavy neutrino(s).\n",
      "Model:\n",
      "\t1 dirac heavy neutrino(s).\n"
     ]
    }
   ],
   "source": [
    "# targets\n",
    "proton = dn.detector.NuclearTarget(\"H1\")\n",
    "C12    = dn.detector.NuclearTarget(\"C12\")\n",
    "Ar40   = dn.detector.NuclearTarget(\"Ar40\")\n",
    "\n",
    "model_vector_h   = dn.model.ThreePortalModel(name='heavy vector', m4 = 0.350, epsilon=1e-3, Umu4=1e-3, mzprime=1.25)\n",
    "\n",
    "NC_test   = dn.model.ThreePortalModel(name='NC_test', m4 = 0.001, Umu4=1e-3, epsilon=0.0, gD=0.0)\n",
    "\n",
    "#print(proton.__dict__)\n",
    "#print(proton.mass)\n"
   ]
  },
  {
   "cell_type": "code",
   "execution_count": 3,
   "id": "8e6d12af",
   "metadata": {},
   "outputs": [],
   "source": [
    "#chosen_model = vector_h\n",
    "chosen_model = NC_test"
   ]
  },
  {
   "cell_type": "code",
   "execution_count": 4,
   "id": "14172401",
   "metadata": {},
   "outputs": [],
   "source": [
    "common_kwargs = {'nu_projectile': pdg.numu, 'scattering_regime': 'coherent', 'nuclear_target': C12}\n",
    "\n",
    "#common_kwargs = {'nu_projectile': pdg.numu, 'nu_upscattered': pdg.neutrino4, 'helicity': 'conserving', 'nuclear_target': C12}\n",
    "#scat_process   = dn.UpscatteringProcess(TheoryModel = chosen_model, scattering_regime = 'coherent', **common_kwargs) \n",
    "process_vector_h  = dn.UpscatteringProcess(TheoryModel = model_vector_h, nu_upscattered=model_vector_h.neutrino4, helicity = 'conserving',  **common_kwargs) \n"
   ]
  },
  {
   "cell_type": "code",
   "execution_count": 8,
   "id": "b2d751d5",
   "metadata": {},
   "outputs": [],
   "source": [
    "Enu_range=np.linspace(0,2,200)"
   ]
  },
  {
   "cell_type": "code",
   "execution_count": null,
   "id": "49adab7e",
   "metadata": {},
   "outputs": [],
   "source": []
  },
  {
   "cell_type": "code",
   "execution_count": 9,
   "id": "c44a2902",
   "metadata": {},
   "outputs": [],
   "source": [
    "#import parton as lhapdf #credit LHAPDF\n",
    "import lhapdf"
   ]
  },
  {
   "cell_type": "code",
   "execution_count": 10,
   "id": "dc121666",
   "metadata": {},
   "outputs": [],
   "source": [
    "#p = lhapdf.mkPDF('CT18NLO',0,pdfdir='../src/DarkNews/include/pdf_data/') for parton\n",
    "pdf_path = '../src/DarkNews/include/pdf_data/'\n"
   ]
  },
  {
   "cell_type": "code",
   "execution_count": null,
   "id": "6c0fc75c",
   "metadata": {},
   "outputs": [],
   "source": []
  },
  {
   "cell_type": "code",
   "execution_count": 11,
   "id": "685e0e46",
   "metadata": {},
   "outputs": [],
   "source": [
    "Enu = 100"
   ]
  },
  {
   "cell_type": "code",
   "execution_count": 56,
   "id": "4536621a",
   "metadata": {},
   "outputs": [
    {
     "name": "stdout",
     "output_type": "stream",
     "text": [
      "-0.0009999999626542427\n"
     ]
    }
   ],
   "source": [
    "#class process():\n",
    "#    def target(self):\n",
    "#        self.Z= 1.25\n",
    "#        self.M = proton.mass\n",
    "Vij = process_vector_h.Vij # I thought it was a metric? I think its the V^2 of the vertex\n",
    "print(Vij)"
   ]
  },
  {
   "cell_type": "code",
   "execution_count": 33,
   "id": "e43f879b",
   "metadata": {},
   "outputs": [
    {
     "name": "stdout",
     "output_type": "stream",
     "text": [
      "LHAPDF 6.2.1 loading ../src/DarkNews/include/pdf_data/CT18NLO/CT18NLO_0000.dat\n",
      "CT18NLO PDF set, member #0, version 1\n"
     ]
    }
   ],
   "source": [
    " p = lhapdf.mkPDF(\"CT18NLO\", 0) #allow user to choose +def-CT18? So it doesnt have to load it every int step\n",
    "#p = lhapdf.mkPDF(\"CT18NLO\", 0,pdfdir=pdf_path) #allow user to choose +def-CT18?\n",
    "flavs = p.flavors()[1:-2]#d,u,s,c excluding b and gluon"
   ]
  },
  {
   "cell_type": "code",
   "execution_count": 45,
   "id": "d212486c",
   "metadata": {},
   "outputs": [],
   "source": [
    "def DIS(x_bj,y,Enu, process, TheoryModel, scattering_regime = 'DIS', diagrams=[\"total\"]):\n",
    "\n",
    "    target = process.target\n",
    "\n",
    "    # masses\n",
    "    M = target.mass\n",
    "    #Z = target.Z atomic nr\n",
    "    mHNL = process.m_ups\n",
    "    mzprime = process.mzprime\n",
    "    MSCALAR = process.mhprime\n",
    "    #Enu = process.Enu\n",
    "    #Enu=Enu\n",
    "    Vhad = process.Vhad # Z' int with had\n",
    "    Vij = process.Vij\n",
    "    Vji = process.Vji\n",
    "    #cfg = lhapdf.getConfig()\n",
    "    #if target.is_proton == True: #set LHAPDF metadeta\n",
    "    #    cfg.set_entry(\"Particle\", 2212) #PID of target\n",
    "    #elif target.is_neutron == True:\n",
    "    #    cfg.set_entry(\"Particle\", 2112)\n",
    "    \n",
    "    #del(cfg)\n",
    "    #PDF reading\n",
    "    #p = lhapdf.mkPDF(\"CT18NLO\", 0) #allow user to choose +def-CT18?\n",
    "    #p = lhapdf.mkPDF(\"CT18NLO\", 0,pdfdir=pdf_path) #allow user to choose +def-CT18?\n",
    "    #flavs = p.flavors()[1:-2]#d,u,s,c excluding b and gluon\n",
    "    Q2 = x_bj*y*2*M*Enu\n",
    "    f_half = 4\n",
    "    R =0.3\n",
    "    R_1 = 1/R #ratio for F_L should be calculated instead\n",
    "    #zeros = np.zeros(f_half)\n",
    "    \n",
    "    g_Z2_V = np.zeros(f_half)\n",
    "    g_Z2_A = np.zeros(f_half)\n",
    "    \n",
    "    g_Z1_V = np.zeros(f_half)\n",
    "    g_Z1_A = np.zeros(f_half)\n",
    "    \n",
    "    g_Z2_V[0] =  g_Z2_V[2] = TheoryModel.ddV #down vectorial\n",
    "    g_Z2_V[1] = g_Z2_V[3] =TheoryModel.duV #up vectorial\n",
    "    g_Z2_A[0] =g_Z2_A[2]  = TheoryModel.ddA #down axial\n",
    "    g_Z2_A[1] =g_Z2_A[3]=  TheoryModel.duA #up axial\n",
    "    \n",
    "    g_Z1_V[0] =  g_Z1_V[2] = TheoryModel.cdV #down vectorial\n",
    "    g_Z1_V[1] = g_Z1_V[3] =TheoryModel.cuV #up vectorial\n",
    "    g_Z1_A[0] =g_Z1_A[2]  = TheoryModel.cdA #down axial\n",
    "    g_Z1_A[1] =g_Z1_A[3]=  TheoryModel.cuA #up axial\n",
    "    \n",
    "    \n",
    "    def Lmunu_Hmunu_DC_SQR():\n",
    "        xf = np.array(p.xfxQ2(flavs, x_bj, Q2))\n",
    "        F2_Z2 = np.sum((g_Z2_V**2+g_Z2_A**2) *(xf[f_half:]+xf[:f_half]))\n",
    "        xF3_Z2 = np.sum((2*g_Z2_V*g_Z2_A )*(xf[f_half:]-xf[:f_half]))\n",
    "        FL_Z2= (R_1+1)*F2_Z2 \n",
    "        x2F1_Z2 = F2_Z2*(1+4*M**2 * x_bj**2 /Q2)/(1+FL_Z2)\n",
    "        y = Q2/( x_bj*2*M*Enu) \n",
    "        ds1 = 0.5*y**2 *x2F1_Z2 +(1-y-x_bj*y*M/(2*Enu))*F2_Z2 \n",
    "        ds2 = y*(1-y*0.5)*xF3_Z2\n",
    "        anti =1\n",
    "        ds = (Vij*Vji)*(Vhad*Vhad) *M*Enu/(np.pi*(mzprime**2+Q2)**2) *(ds1+anti*ds2) #is all sqrt\n",
    "        #print('ds',Vij)\n",
    "        return(ds)#**2?\n",
    "    Lmunu_Hmunu = {}\n",
    "    Lmunu_Hmunu[\"DC_SQR\"] = Lmunu_Hmunu_DC_SQR()\n",
    "    #more dictionary and splitting over diagrams insert here\n",
    "\n",
    "    return(Lmunu_Hmunu[\"DC_SQR\"])"
   ]
  },
  {
   "cell_type": "code",
   "execution_count": 15,
   "id": "7cc1e6c6",
   "metadata": {},
   "outputs": [
    {
     "name": "stdout",
     "output_type": "stream",
     "text": [
      "LHAPDF 6.2.1 loading ../src/DarkNews/include/pdf_data/CT18NLO/CT18NLO_0000.dat\n",
      "CT18NLO PDF set, member #0, version 1\n",
      "ds -0.0009999999626542427\n"
     ]
    }
   ],
   "source": [
    "out  = DIS(0.003,100, Enu,process_vector_h, model_vector_h)\n"
   ]
  },
  {
   "cell_type": "code",
   "execution_count": 16,
   "id": "74eecc96",
   "metadata": {},
   "outputs": [
    {
     "name": "stdout",
     "output_type": "stream",
     "text": [
      "{'DC_SQR': 1.4137757654298622e-18}\n",
      "1.4137757654298622e-18\n"
     ]
    }
   ],
   "source": [
    "#print(out.__dict__)\n",
    "print(out)\n",
    "print(out[\"DC_SQR\"])"
   ]
  },
  {
   "cell_type": "code",
   "execution_count": null,
   "id": "638a9b32",
   "metadata": {},
   "outputs": [],
   "source": [
    "DIS_threshhold = 100"
   ]
  },
  {
   "cell_type": "markdown",
   "id": "2e6dc1f4",
   "metadata": {},
   "source": [
    "Now testing it with my mediocre int before building the real thing\n",
    "\n",
    "def DIS(Q2, x_bj,process, TheoryModel, scattering_regime = 'DIS', diagrams=[\"total\"]):\n"
   ]
  },
  {
   "cell_type": "code",
   "execution_count": 17,
   "id": "bafe089e",
   "metadata": {},
   "outputs": [],
   "source": [
    "\n",
    "from scipy import integrate as sint\n",
    "\n"
   ]
  },
  {
   "cell_type": "markdown",
   "id": "f83e596d",
   "metadata": {},
   "source": [
    "n = 10\n",
    "E_nus = np.linspace(100,1000,n)\n",
    "sigs_E = np.zeros(n)\n",
    "err_sigs_E = np.zeros(n)\n",
    "y_max =1\n",
    "x_max =1\n",
    "for i in range(n):\n",
    "        x_min = mN**2/(2*mp*E_nus[i])\n",
    "        sigs_E[i], err_sigs_E[i] =  sint.dblquad(ds_v,x_min,x_max,lambda x: mN**4/(8*mp*x*E_nus[i]**3),y_max, args = (E_nus[i]))\n",
    "\n",
    "\n",
    "\n",
    "sig = sint.dblquad(ds_v,x_min,x_max,lambda x: mN**4/(8*mp*x*E**3),y_max, args = (np.array([Vert,E,anti])))"
   ]
  },
  {
   "cell_type": "code",
   "execution_count": 53,
   "metadata": {},
   "outputs": [],
   "source": [
    "def integrand(E_nus, process, TheoryModel, scattering_regime = 'DIS'):\n",
    "    target  = process.target\n",
    "    M = target.mass\n",
    "    #Z = target.Z atomic nr\n",
    "    mHNL = process.m_ups\n",
    "    n  = len(E_nus)\n",
    "    sigs_E = np.zeros(n)\n",
    "    err_sigs_E = np.zeros(n)\n",
    "    y_max =1\n",
    "    x_max =1\n",
    "    for i in range(n):\n",
    "        x_min = mHNL**2/(2*M*E_nus[i])\n",
    "        sigs_E[i], err_sigs_E[i] =  sint.dblquad(DIS,x_min,x_max,lambda x: mHNL**4/(8*M*x*E_nus[i]**3),\\\n",
    "                                    y_max, args = (np.array([E_nus[i],process,TheoryModel])))\n",
    "\n",
    "    return(sigs_E)\n",
    "\n",
    "\n",
    "\n",
    "\n",
    "\n",
    "\n"
   ]
  },
  {
   "cell_type": "code",
   "execution_count": 54,
   "id": "4500b5ea",
   "metadata": {},
   "outputs": [],
   "source": [
    "E_nus = np.linspace(100,400,20)\n",
    "sigs = integrand(E_nus,process_vector_h,model_vector_h)"
   ]
  },
  {
   "cell_type": "code",
   "execution_count": 55,
   "id": "e1c33502",
   "metadata": {},
   "outputs": [
    {
     "data": {
      "image/png": "[encoded data removed]",
      "text/plain": [
       "<Figure size 432x288 with 1 Axes>"
      ]
     },
     "metadata": {
      "needs_background": "light"
     },
     "output_type": "display_data"
    }
   ],
   "source": [
    "plt.plot(E_nus,sigs*3.89379372*10**(12)/E_nus)\n",
    "plt.show()"
   ]
  },
  {
   "cell_type": "markdown",
   "id": "5d55e5da",
   "metadata": {},
   "source": [
    "\n",
    "    cfg = lhapdf.getConfig()\n",
    "    if target.is_proton == True: #set LHAPDF metadeta\n",
    "        cfg.set_entry(\"Particle\", 2212) #PID of target\n",
    "    elif target.is_neutron == True:\n",
    "        cfg.set_entry(\"Particle\", 2112)"
   ]
  }
 ],
 "metadata": {
  "kernelspec": {
   "display_name": "Python 3.7.5 64-bit",
   "language": "python",
   "name": "python3"
  },
  "language_info": {
   "codemirror_mode": {
    "name": "ipython",
    "version": 3
   },
   "file_extension": ".py",
   "mimetype": "text/x-python",
   "name": "python",
   "nbconvert_exporter": "python",
   "pygments_lexer": "ipython3",
   "version": "3.7.5"
  },
  "vscode": {
   "interpreter": {
    "hash": "31f2aee4e71d21fbe5cf8b01ff0e069b9275f58929596ceb00d14d90e3e16cd6"
   }
  }
 },
 "nbformat": 4,
 "nbformat_minor": 5
}
