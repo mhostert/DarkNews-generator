{
 "cells": [
  {
   "cell_type": "markdown",
   "id": "chinese-isaac",
   "metadata": {},
   "source": [
    "# Rens' his place to play around in.\n",
    "\n",
    "The contruction of DIS"
   ]
  },
  {
   "cell_type": "code",
   "execution_count": 1,
   "id": "compact-danger",
   "metadata": {},
   "outputs": [],
   "source": [
    "%load_ext autoreload\n",
    "%autoreload 2"
   ]
  },
  {
   "cell_type": "code",
   "execution_count": 9,
   "id": "professional-latitude",
   "metadata": {},
   "outputs": [],
   "source": [
    "import matplotlib.pyplot as plt\n",
    "\n",
    "import numpy as np\n",
    "import pandas as pd\n",
    "import DarkNews as dn\n",
    "\n",
    "from DarkNews import pdg\n",
    "from DarkNews import model as Theorymodel\n",
    "import matplotlib.pyplot as plt"
   ]
  },
  {
   "cell_type": "code",
   "execution_count": 105,
   "id": "8dc3f688",
   "metadata": {},
   "outputs": [
    {
     "name": "stdout",
     "output_type": "stream",
     "text": [
      "Model:\n",
      "\t1 dirac heavy neutrino(s).\n",
      "Model:\n",
      "\t1 dirac heavy neutrino(s).\n"
     ]
    }
   ],
   "source": [
    "# targets\n",
    "proton = dn.detector.NuclearTarget(\"H1\")\n",
    "C12    = dn.detector.NuclearTarget(\"C12\")\n",
    "Ar40   = dn.detector.NuclearTarget(\"Ar40\")\n",
    "\n",
    "model_vector_h   = dn.model.ThreePortalModel(name='heavy vector', m4 = 0.200, epsilon=1e-3, Umu4=1e-3, mzprime=1.25)\n",
    "\n",
    "NC_test   = dn.model.ThreePortalModel(name='NC_test', m4 = 0.001, Umu4=1e-3, epsilon=0.0, gD=0.0)\n",
    "\n",
    "#print(proton.__dict__)\n",
    "#print(proton.mass)\n"
   ]
  },
  {
   "cell_type": "code",
   "execution_count": 106,
   "id": "8e6d12af",
   "metadata": {},
   "outputs": [],
   "source": [
    "#chosen_model = vector_h\n",
    "chosen_model = NC_test"
   ]
  },
  {
   "cell_type": "code",
   "execution_count": 107,
   "id": "14172401",
   "metadata": {},
   "outputs": [],
   "source": [
    "common_kwargs = {'nu_projectile': pdg.numu, 'scattering_regime': 'coherent', 'nuclear_target': C12}\n",
    "\n",
    "#common_kwargs = {'nu_projectile': pdg.numu, 'nu_upscattered': pdg.neutrino4, 'helicity': 'conserving', 'nuclear_target': C12}\n",
    "#scat_process   = dn.UpscatteringProcess(TheoryModel = chosen_model, scattering_regime = 'coherent', **common_kwargs) \n",
    "process_vector_h  = dn.UpscatteringProcess(TheoryModel = vector_h, nu_upscattered=vector_h.neutrino4, helicity = 'conserving',  **common_kwargs) \n"
   ]
  },
  {
   "cell_type": "code",
   "execution_count": 108,
   "id": "b2d751d5",
   "metadata": {},
   "outputs": [],
   "source": [
    "Enu_range=np.linspace(0,2,200)"
   ]
  },
  {
   "cell_type": "code",
   "execution_count": null,
   "id": "49adab7e",
   "metadata": {},
   "outputs": [],
   "source": []
  },
  {
   "cell_type": "code",
   "execution_count": 109,
   "id": "c44a2902",
   "metadata": {},
   "outputs": [],
   "source": [
    "#import parton as lhapdf #credit LHAPDF\n",
    "import lhapdf"
   ]
  },
  {
   "cell_type": "code",
   "execution_count": 110,
   "id": "dc121666",
   "metadata": {},
   "outputs": [],
   "source": [
    "#p = lhapdf.mkPDF('CT18NLO',0,pdfdir='../src/DarkNews/include/pdf_data/') for parton\n",
    "pdf_path = '../src/DarkNews/include/pdf_data/'\n"
   ]
  },
  {
   "cell_type": "code",
   "execution_count": null,
   "id": "6c0fc75c",
   "metadata": {},
   "outputs": [],
   "source": []
  },
  {
   "cell_type": "code",
   "execution_count": 111,
   "id": "685e0e46",
   "metadata": {},
   "outputs": [],
   "source": [
    "Enu = 100"
   ]
  },
  {
   "cell_type": "code",
   "execution_count": 112,
   "id": "4536621a",
   "metadata": {},
   "outputs": [
    {
     "name": "stdout",
     "output_type": "stream",
     "text": [
      "-0.0009999999626542427\n"
     ]
    }
   ],
   "source": [
    "#class process():\n",
    "#    def target(self):\n",
    "#        self.Z= 1.25\n",
    "#        self.M = proton.mass\n",
    "Vij = process_vector_h.Vij\n",
    "print(Vij)"
   ]
  },
  {
   "cell_type": "markdown",
   "id": "cbe2e677",
   "metadata": {},
   "source": [
    "upscattering process\n",
    "    def __init__(self, nu_projectile, nu_upscattered, nuclear_target, scattering_regime, TheoryModel, helicity):"
   ]
  },
  {
   "cell_type": "code",
   "execution_count": 113,
   "id": "d212486c",
   "metadata": {},
   "outputs": [],
   "source": [
    "def DIS(Q2, x_bj,process, TheoryModel, scattering_regime = 'DIS', diagrams=[\"total\"]):\n",
    "\n",
    "    target = process.target\n",
    "\n",
    "    # masses\n",
    "    M = target.mass\n",
    "    #Z = target.Z atomic nr\n",
    "    mHNL = process.m_ups\n",
    "    mzprime = process.mzprime\n",
    "    MSCALAR = process.mhprime\n",
    "    #Enu = process.Enu\n",
    "    #Enu=Enu\n",
    "    Vhad = process.Vhad # Z' int with had\n",
    "    Vij = process.Vij\n",
    "    Vji = process.Vji\n",
    "    lhapdf.setPaths([pdf_path])\n",
    "    #cfg = lhapdf.getConfig()\n",
    "    #if target.is_proton == True: #set LHAPDF metadeta\n",
    "    #    cfg.set_entry(\"Particle\", 2212) #PID of target\n",
    "    #elif target.is_neutron == True:\n",
    "    #    cfg.set_entry(\"Particle\", 2112)\n",
    "    \n",
    "    #del(cfg)\n",
    "    #PDF reading\n",
    "    p = lhapdf.mkPDF(\"CT18NLO\", 0) #allow user to choose +def-CT18?\n",
    "    #p = lhapdf.mkPDF(\"CT18NLO\", 0,pdfdir=pdf_path) #allow user to choose +def-CT18?\n",
    "    flavs = p.flavors()[1:-2]#d,u,s,c excluding b and gluon\n",
    "    f_half = 4\n",
    "    R =0.3\n",
    "    R_1 = 1/R #ratio for F_L should be calculated instead\n",
    "    #zeros = np.zeros(f_half)\n",
    "    \n",
    "    g_Z2_V = np.zeros(f_half)\n",
    "    g_Z2_A = np.zeros(f_half)\n",
    "    \n",
    "    g_Z1_V = np.zeros(f_half)\n",
    "    g_Z1_A = np.zeros(f_half)\n",
    "    \n",
    "    g_Z2_V[0] =  g_Z2_V[2] = TheoryModel.ddV #down vectorial\n",
    "    g_Z2_V[1] = g_Z2_V[3] =TheoryModel.duV #up vectorial\n",
    "    g_Z2_A[0] =g_Z2_A[2]  = TheoryModel.ddA #down axial\n",
    "    g_Z2_A[1] =g_Z2_A[3]=  TheoryModel.duA #up axial\n",
    "    \n",
    "    g_Z1_V[0] =  g_Z1_V[2] = TheoryModel.cdV #down vectorial\n",
    "    g_Z1_V[1] = g_Z1_V[3] =TheoryModel.cuV #up vectorial\n",
    "    g_Z1_A[0] =g_Z1_A[2]  = TheoryModel.cdA #down axial\n",
    "    g_Z1_A[1] =g_Z1_A[3]=  TheoryModel.cuA #up axial\n",
    "    \n",
    "    \n",
    "    def Lmunu_Hmunu_DC_SQR():\n",
    "        xf = np.array(p.xfxQ2(flavs, x_bj, Q2))\n",
    "        F2_Z2 = np.sum((g_Z2_V**2+g_Z2_A**2) *(xf[f_half:]+xf[:f_half]))\n",
    "        xF3_Z2 = np.sum((2*g_Z2_V*g_Z2_A )*(xf[f_half:]-xf[:f_half]))\n",
    "        FL_Z2= (R_1+1)*F2_Z2 \n",
    "        x2F1_Z2 = F2_Z2*(1+4*M**2 * x_bj**2 /Q2)/(1+FL_Z2)\n",
    "        y = Q2/( x_bj*2*M*Enu) \n",
    "        ds1 = 0.5*y**2 *x2F1_Z2 +(1-y-x_bj*y*M/(2*Enu))*F2_Z2 \n",
    "        ds2 = y*(1-y*0.5)*xF3_Z2\n",
    "        anti =1\n",
    "        ds = (Vij*Vji)*(Vhad*Vhad) *M*Enu/(np.pi*(mzprime**2+Q2)**2) *(ds1+anti*ds2) #is all sqrt\n",
    "        print('ds',Vij)\n",
    "        return(ds)#**2?\n",
    "    Lmunu_Hmunu = {}\n",
    "    Lmunu_Hmunu[\"DC_SQR\"] = Lmunu_Hmunu_DC_SQR()\n",
    "    #more dictionary and splitting over diagrams insert here\n",
    "\n",
    "    return(Lmunu_Hmunu)"
   ]
  },
  {
   "cell_type": "code",
   "execution_count": 114,
   "id": "7cc1e6c6",
   "metadata": {},
   "outputs": [
    {
     "name": "stdout",
     "output_type": "stream",
     "text": [
      "LHAPDF 6.2.1 loading ../src/DarkNews/include/pdf_data/CT18NLO/CT18NLO_0000.dat\n",
      "CT18NLO PDF set, member #0, version 1\n",
      "ds -0.0009999999626542427\n"
     ]
    }
   ],
   "source": [
    "out  = DIS(100,0.003, process_vector_h, model_vector_h)\n"
   ]
  },
  {
   "cell_type": "code",
   "execution_count": 115,
   "id": "74eecc96",
   "metadata": {},
   "outputs": [
    {
     "name": "stdout",
     "output_type": "stream",
     "text": [
      "{'DC_SQR': 1.4137757654298622e-18}\n",
      "1.4137757654298622e-18\n"
     ]
    }
   ],
   "source": [
    "#print(out.__dict__)\n",
    "print(out)\n",
    "print(out[\"DC_SQR\"])"
   ]
  },
  {
   "cell_type": "code",
   "execution_count": null,
   "id": "638a9b32",
   "metadata": {},
   "outputs": [],
   "source": [
    "DIS_threshhold = 100"
   ]
  },
  {
   "cell_type": "markdown",
   "id": "2e6dc1f4",
   "metadata": {},
   "source": [
    "Now testing it with my mediocre int before building the real thing"
   ]
  },
  {
   "cell_type": "code",
   "execution_count": null,
   "id": "bafe089e",
   "metadata": {},
   "outputs": [],
   "source": []
  },
  {
   "cell_type": "code",
   "execution_count": null,
   "id": "f83e596d",
   "metadata": {},
   "outputs": [],
   "source": []
  },
  {
   "cell_type": "code",
   "execution_count": null,
   "metadata": {},
   "outputs": [],
   "source": []
  },
  {
   "cell_type": "code",
   "execution_count": null,
   "id": "4500b5ea",
   "metadata": {},
   "outputs": [],
   "source": []
  },
  {
   "cell_type": "code",
   "execution_count": null,
   "id": "e1c33502",
   "metadata": {},
   "outputs": [],
   "source": []
  },
  {
   "cell_type": "markdown",
   "id": "5d55e5da",
   "metadata": {},
   "source": [
    "\n",
    "    cfg = lhapdf.getConfig()\n",
    "    if target.is_proton == True: #set LHAPDF metadeta\n",
    "        cfg.set_entry(\"Particle\", 2212) #PID of target\n",
    "    elif target.is_neutron == True:\n",
    "        cfg.set_entry(\"Particle\", 2112)"
   ]
  }
 ],
 "metadata": {
  "kernelspec": {
   "display_name": "Python 3.7.5 64-bit",
   "language": "python",
   "name": "python3"
  },
  "language_info": {
   "codemirror_mode": {
    "name": "ipython",
    "version": 3
   },
   "file_extension": ".py",
   "mimetype": "text/x-python",
   "name": "python",
   "nbconvert_exporter": "python",
   "pygments_lexer": "ipython3",
   "version": "3.7.5"
  },
  "vscode": {
   "interpreter": {
    "hash": "31f2aee4e71d21fbe5cf8b01ff0e069b9275f58929596ceb00d14d90e3e16cd6"
   }
  }
 },
 "nbformat": 4,
 "nbformat_minor": 5
}
