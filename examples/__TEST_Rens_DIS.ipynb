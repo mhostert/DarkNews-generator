{
 "cells": [
  {
   "cell_type": "markdown",
   "id": "chinese-isaac",
   "metadata": {},
   "source": [
    "# Rens' his place to play around in.\n",
    "\n",
    "The contruction of DIS"
   ]
  },
  {
   "cell_type": "code",
   "execution_count": 1,
   "id": "compact-danger",
   "metadata": {},
   "outputs": [],
   "source": [
    "%load_ext autoreload\n",
    "%autoreload 2"
   ]
  },
  {
   "cell_type": "code",
   "execution_count": 29,
   "id": "professional-latitude",
   "metadata": {},
   "outputs": [],
   "source": [
    "import matplotlib.pyplot as plt\n",
    "\n",
    "import numpy as np\n",
    "import pandas as pd\n",
    "import DarkNews as dn\n",
    "\n",
    "from DarkNews import pdg\n",
    "from DarkNews import model as Theorymodel\n",
    "import matplotlib.pyplot as plt\n",
    "from ToyAnalysis import analysis_decay as a_d"
   ]
  },
  {
   "cell_type": "code",
   "execution_count": 23,
   "id": "4dd27f5d",
   "metadata": {},
   "outputs": [
    {
     "name": "stdout",
     "output_type": "stream",
     "text": [
      "Initializing the three-portal model.\n",
      "---------------------------------------------------------\n",
      "   ______           _        _   _                     \n",
      "   |  _  \\         | |      | \\ | |                    \n",
      "   | | | |__ _ _ __| | __   |  \\| | _____      _____   \n",
      "   | | | / _  | ___| |/ /   | .   |/ _ \\ \\ /\\ / / __|  \n",
      "   | |/ / (_| | |  |   <    | |\\  |  __/\\ V  V /\\__ \\  \n",
      "   |___/ \\__,_|_|  |_|\\_\\   \\_| \\_/\\___| \\_/\\_/ |___/  \n",
      "\n",
      "---------------------------------------------------------\n",
      "Model:\n",
      "\t2 dirac heavy neutrino(s).\n",
      "\n",
      "---------------------------------------------------------\n",
      "Experiment:\n",
      "\tminiboone_fhc\n",
      "\tfluxfile loaded: MiniBooNE_FHC.dat\n",
      "\tPOT: 1.875e+21\n",
      "\tnuclear targets: ['C12', 'H1']\n",
      "\tfiducial mass: [701.1428571428571, 116.85714285714286] tonnes\n",
      "\n",
      "Directory tree for this run already exists. Overriding it.\n",
      "---------------------------------------------------------\n",
      "Generating Events using the neutrino-nucleus upscattering engine\n",
      "\n",
      "nu(mu) C12 --> N5  C12 --> N4 e+ e- C12\n",
      "Helicity conserving upscattering.\n",
      "N5 decays via on-shell Z'.\n",
      "Parent N5 proper decay length: 1.103E-12 cm.\n",
      "\n",
      "Predicted (1.07e+08 +/- 4.23e+06) events.\n",
      "\n",
      "nu(mu) C12 --> N5  C12 --> N4 e+ e- C12\n",
      "Helicity flipping upscattering.\n",
      "N5 decays via on-shell Z'.\n",
      "Parent N5 proper decay length: 1.104E-12 cm.\n",
      "\n",
      "Predicted (1.28e+04 +/- 505) events.\n",
      "\n",
      "nu(mu) proton_in_C12 --> N5  proton_in_C12 --> N4 e+ e- proton_in_C12\n",
      "Helicity conserving upscattering.\n",
      "N5 decays via on-shell Z'.\n",
      "Parent N5 proper decay length: 1.104E-12 cm.\n",
      "\n",
      "Predicted (1.99e+07 +/- 7.46e+05) events.\n",
      "\n",
      "nu(mu) proton_in_C12 --> N5  proton_in_C12 --> N4 e+ e- proton_in_C12\n",
      "Helicity flipping upscattering.\n",
      "N5 decays via on-shell Z'.\n",
      "Parent N5 proper decay length: 1.104E-12 cm.\n",
      "\n",
      "Predicted (1.21e+04 +/- 455) events.\n",
      "\n",
      "nu(mu) proton_in_H1 --> N5  proton_in_H1 --> N4 e+ e- proton_in_H1\n",
      "Helicity conserving upscattering.\n",
      "N5 decays via on-shell Z'.\n",
      "Parent N5 proper decay length: 1.102E-12 cm.\n",
      "\n",
      "Predicted (6.71e+06 +/- 2.5e+05) events.\n",
      "\n",
      "nu(mu) proton_in_H1 --> N5  proton_in_H1 --> N4 e+ e- proton_in_H1\n",
      "Helicity flipping upscattering.\n",
      "N5 decays via on-shell Z'.\n",
      "Parent N5 proper decay length: 1.106E-12 cm.\n",
      "\n",
      "Predicted (4.05e+03 +/- 153) events.\n",
      "\n",
      "---------------------------------------------------------\n",
      "Generation successful\n",
      "\n",
      "Total events predicted:\n",
      "(1.34e+08 +/- 4.3e+06) events.\n",
      "\n",
      "---------------------------------------------------------\n",
      "Events in pandas dataframe saved to file successfully:\n",
      "data/miniboone_fhc/3plus2/m5_0.14_m4_0.08_mzprime_0.03_dirac/pandas_df.pckl\n",
      "\n"
     ]
    }
   ],
   "source": [
    "my_gen = dn.GenLauncher(Umu5=1e-3, UD5=1/np.sqrt(2), chi=0.0031, gD=2, mzprime=0.03, m4=0.080, m5=0.120, m6=0.185,,neval=1000, HNLtype=\"dirac\")\n",
    "df = my_gen.run(loglevel=\"INFO\")"
   ]
  },
  {
   "cell_type": "code",
   "execution_count": 16,
   "id": "c720ff18",
   "metadata": {},
   "outputs": [],
   "source": []
  },
  {
   "cell_type": "code",
   "execution_count": 48,
   "id": "8a0c8e32",
   "metadata": {},
   "outputs": [
    {
     "name": "stdout",
     "output_type": "stream",
     "text": [
      "{'_is_copy': <weakref at 0x7f06a5e62c50; to 'DataFrame' at 0x7f06a5909510>, '_mgr': BlockManager\n",
      "Items: Index(['0', '1', '2', '3'], dtype='object')\n",
      "Axis 1: RangeIndex(start=0, stop=5602, step=1)\n",
      "NumericBlock: slice(0, 4, 1), 4 x 5602, dtype: float64, '_item_cache': {}, '_attrs': {'experiment': <DarkNews.detector.Detector object at 0x7f06a5289b50>, 'model': <DarkNews.model.ThreePortalModel object at 0x7f06a5264510>, 'N5_ctau0': 1.1043607021236515e-12, 'data_path': PosixPath('data/miniboone_fhc/3plus2/m5_0.14_m4_0.08_mzprime_0.03_dirac')}, '_flags': <Flags(allows_duplicate_labels=True)>}\n",
      "             0         1         2         3\n",
      "0     0.335857  0.017988 -0.045027  0.322566\n",
      "1     0.187793 -0.016092 -0.056924  0.159270\n",
      "2     0.765231  0.214143 -0.122450  0.719949\n",
      "3     0.221196  0.027527 -0.022860  0.203094\n",
      "4     0.698927 -0.003896  0.026276  0.693826\n",
      "...        ...       ...       ...       ...\n",
      "5597  0.109216  0.051326 -0.023472  0.048402\n",
      "5598  0.556343  0.002705 -0.001249  0.550553\n",
      "5599  0.278377  0.004944  0.054710  0.260914\n",
      "5600  0.498327  0.140034  0.020388  0.471068\n",
      "5601  0.099314  0.001585  0.029436  0.050934\n",
      "\n",
      "[5602 rows x 4 columns]\n",
      "1.1043607021236515e-12\n",
      "5602\n"
     ]
    },
    {
     "data": {
      "image/png": "[encoded data removed]",
      "text/plain": [
       "<Figure size 432x288 with 1 Axes>"
      ]
     },
     "metadata": {
      "needs_background": "light"
     },
     "output_type": "display_data"
    }
   ],
   "source": [
    "l_decay_proper_cm= df.attrs['N5_ctau0']\n",
    "pN = df.P_decay_N_daughter\n",
    "print(pN.__dict__)\n",
    "print(pN)\n",
    "pN_array= np.array(pN)\n",
    "#print(pN.__dict__)\n",
    "print(l_decay_proper_cm)\n",
    "l_decay_lab_cm = a_d.get_decay_length_in_lab(pN_array, l_decay_proper_cm)\n",
    "plt.plot(np.arange(0,len(l_decay_lab_cm),1),l_decay_lab_cm)\n",
    "plt.show()"
   ]
  },
  {
   "cell_type": "code",
   "execution_count": 2,
   "id": "8dc3f688",
   "metadata": {},
   "outputs": [
    {
     "name": "stdout",
     "output_type": "stream",
     "text": [
      "Model:\n",
      "\t1 dirac heavy neutrino(s).\n",
      "Model:\n",
      "\t1 dirac heavy neutrino(s).\n"
     ]
    }
   ],
   "source": [
    "# targets\n",
    "proton = dn.detector.NuclearTarget(\"H1\")\n",
    "C12    = dn.detector.NuclearTarget(\"C12\")\n",
    "Ar40   = dn.detector.NuclearTarget(\"Ar40\")\n",
    "\n",
    "model_vector_h   = dn.model.ThreePortalModel(name='heavy vector', m4 = 0.350, epsilon=1e-3, Umu4=1e-3, mzprime=1.25)\n",
    "\n",
    "NC_test   = dn.model.ThreePortalModel(name='NC_test', m4 = 0.001, Umu4=1e-3, epsilon=0.0, gD=0.0)\n",
    "\n",
    "#print(proton.__dict__)\n",
    "#print(proton.mass)\n"
   ]
  },
  {
   "cell_type": "code",
   "execution_count": 3,
   "id": "8e6d12af",
   "metadata": {},
   "outputs": [],
   "source": [
    "#chosen_model = vector_h\n",
    "chosen_model = NC_test"
   ]
  },
  {
   "cell_type": "code",
   "execution_count": 4,
   "id": "14172401",
   "metadata": {},
   "outputs": [],
   "source": [
    "common_kwargs = {'nu_projectile': pdg.numu, 'scattering_regime': 'coherent', 'nuclear_target': C12}\n",
    "\n",
    "#common_kwargs = {'nu_projectile': pdg.numu, 'nu_upscattered': pdg.neutrino4, 'helicity': 'conserving', 'nuclear_target': C12}\n",
    "#scat_process   = dn.UpscatteringProcess(TheoryModel = chosen_model, scattering_regime = 'coherent', **common_kwargs) \n",
    "process_vector_h  = dn.UpscatteringProcess(TheoryModel = model_vector_h, nu_upscattered=model_vector_h.neutrino4, helicity = 'conserving',  **common_kwargs) \n"
   ]
  },
  {
   "cell_type": "code",
   "execution_count": 8,
   "id": "b2d751d5",
   "metadata": {},
   "outputs": [],
   "source": [
    "Enu_range=np.linspace(0,2,200)"
   ]
  },
  {
   "cell_type": "code",
   "execution_count": null,
   "id": "49adab7e",
   "metadata": {},
   "outputs": [],
   "source": []
  },
  {
   "cell_type": "code",
   "execution_count": 9,
   "id": "c44a2902",
   "metadata": {},
   "outputs": [],
   "source": [
    "#import parton as lhapdf #credit LHAPDF\n",
    "import lhapdf"
   ]
  },
  {
   "cell_type": "code",
   "execution_count": 10,
   "id": "dc121666",
   "metadata": {},
   "outputs": [],
   "source": [
    "#p = lhapdf.mkPDF('CT18NLO',0,pdfdir='../src/DarkNews/include/pdf_data/') for parton\n",
    "pdf_path = '../src/DarkNews/include/pdf_data/'\n"
   ]
  },
  {
   "cell_type": "code",
   "execution_count": null,
   "id": "6c0fc75c",
   "metadata": {},
   "outputs": [],
   "source": []
  },
  {
   "cell_type": "code",
   "execution_count": 11,
   "id": "685e0e46",
   "metadata": {},
   "outputs": [],
   "source": [
    "Enu = 100"
   ]
  },
  {
   "cell_type": "code",
   "execution_count": 56,
   "id": "4536621a",
   "metadata": {},
   "outputs": [
    {
     "name": "stdout",
     "output_type": "stream",
     "text": [
      "-0.0009999999626542427\n"
     ]
    }
   ],
   "source": [
    "#class process():\n",
    "#    def target(self):\n",
    "#        self.Z= 1.25\n",
    "#        self.M = proton.mass\n",
    "Vij = process_vector_h.Vij # I thought it was a metric? I think its the V^2 of the vertex\n",
    "print(Vij)"
   ]
  },
  {
   "cell_type": "code",
   "execution_count": 33,
   "id": "e43f879b",
   "metadata": {},
   "outputs": [
    {
     "name": "stdout",
     "output_type": "stream",
     "text": [
      "LHAPDF 6.2.1 loading ../src/DarkNews/include/pdf_data/CT18NLO/CT18NLO_0000.dat\n",
      "CT18NLO PDF set, member #0, version 1\n"
     ]
    }
   ],
   "source": [
    " p = lhapdf.mkPDF(\"CT18NLO\", 0) #allow user to choose +def-CT18? So it doesnt have to load it every int step\n",
    "#p = lhapdf.mkPDF(\"CT18NLO\", 0,pdfdir=pdf_path) #allow user to choose +def-CT18?\n",
    "flavs = p.flavors()[1:-2]#d,u,s,c excluding b and gluon"
   ]
  },
  {
   "cell_type": "code",
   "execution_count": 45,
   "id": "d212486c",
   "metadata": {},
   "outputs": [],
   "source": [
    "def DIS(x_bj,y,Enu, process, TheoryModel, scattering_regime = 'DIS', diagrams=[\"total\"]):\n",
    "\n",
    "    target = process.target\n",
    "\n",
    "    # masses\n",
    "    M = target.mass\n",
    "    #Z = target.Z atomic nr\n",
    "    mHNL = process.m_ups\n",
    "    mzprime = process.mzprime\n",
    "    MSCALAR = process.mhprime\n",
    "    #Enu = process.Enu\n",
    "    #Enu=Enu\n",
    "    Vhad = process.Vhad # Z' int with had\n",
    "    Vij = process.Vij\n",
    "    Vji = process.Vji\n",
    "    #cfg = lhapdf.getConfig()\n",
    "    #if target.is_proton == True: #set LHAPDF metadeta\n",
    "    #    cfg.set_entry(\"Particle\", 2212) #PID of target\n",
    "    #elif target.is_neutron == True:\n",
    "    #    cfg.set_entry(\"Particle\", 2112)\n",
    "    \n",
    "    #del(cfg)\n",
    "    #PDF reading\n",
    "    #p = lhapdf.mkPDF(\"CT18NLO\", 0) #allow user to choose +def-CT18?\n",
    "    #p = lhapdf.mkPDF(\"CT18NLO\", 0,pdfdir=pdf_path) #allow user to choose +def-CT18?\n",
    "    #flavs = p.flavors()[1:-2]#d,u,s,c excluding b and gluon\n",
    "    Q2 = x_bj*y*2*M*Enu\n",
    "    f_half = 4\n",
    "    R =0.3\n",
    "    R_1 = 1/R #ratio for F_L should be calculated instead\n",
    "    #zeros = np.zeros(f_half)\n",
    "    \n",
    "    g_Z2_V = np.zeros(f_half)\n",
    "    g_Z2_A = np.zeros(f_half)\n",
    "    \n",
    "    g_Z1_V = np.zeros(f_half)\n",
    "    g_Z1_A = np.zeros(f_half)\n",
    "    \n",
    "    g_Z2_V[0] =  g_Z2_V[2] = TheoryModel.ddV #down vectorial\n",
    "    g_Z2_V[1] = g_Z2_V[3] =TheoryModel.duV #up vectorial\n",
    "    g_Z2_A[0] =g_Z2_A[2]  = TheoryModel.ddA #down axial\n",
    "    g_Z2_A[1] =g_Z2_A[3]=  TheoryModel.duA #up axial\n",
    "    \n",
    "    g_Z1_V[0] =  g_Z1_V[2] = TheoryModel.cdV #down vectorial\n",
    "    g_Z1_V[1] = g_Z1_V[3] =TheoryModel.cuV #up vectorial\n",
    "    g_Z1_A[0] =g_Z1_A[2]  = TheoryModel.cdA #down axial\n",
    "    g_Z1_A[1] =g_Z1_A[3]=  TheoryModel.cuA #up axial\n",
    "    \n",
    "    \n",
    "    def Lmunu_Hmunu_DC_SQR():\n",
    "        xf = np.array(p.xfxQ2(flavs, x_bj, Q2))\n",
    "        F2_Z2 = np.sum((g_Z2_V**2+g_Z2_A**2) *(xf[f_half:]+xf[:f_half]))\n",
    "        xF3_Z2 = np.sum((2*g_Z2_V*g_Z2_A )*(xf[f_half:]-xf[:f_half]))\n",
    "        FL_Z2= (R_1+1)*F2_Z2 \n",
    "        x2F1_Z2 = F2_Z2*(1+4*M**2 * x_bj**2 /Q2)/(1+FL_Z2)\n",
    "        y = Q2/( x_bj*2*M*Enu) \n",
    "        ds1 = 0.5*y**2 *x2F1_Z2 +(1-y-x_bj*y*M/(2*Enu))*F2_Z2 \n",
    "        ds2 = y*(1-y*0.5)*xF3_Z2\n",
    "        anti =1\n",
    "        ds = (Vij*Vji)*(Vhad*Vhad) *M*Enu/(np.pi*(mzprime**2+Q2)**2) *(ds1+anti*ds2) #is all sqrt\n",
    "        #print('ds',Vij)\n",
    "        return(ds)#**2?\n",
    "    Lmunu_Hmunu = {}\n",
    "    Lmunu_Hmunu[\"DC_SQR\"] = Lmunu_Hmunu_DC_SQR()\n",
    "    #more dictionary and splitting over diagrams insert here\n",
    "\n",
    "    return(Lmunu_Hmunu[\"DC_SQR\"])"
   ]
  },
  {
   "cell_type": "code",
   "execution_count": 15,
   "id": "7cc1e6c6",
   "metadata": {},
   "outputs": [
    {
     "name": "stdout",
     "output_type": "stream",
     "text": [
      "LHAPDF 6.2.1 loading ../src/DarkNews/include/pdf_data/CT18NLO/CT18NLO_0000.dat\n",
      "CT18NLO PDF set, member #0, version 1\n",
      "ds -0.0009999999626542427\n"
     ]
    }
   ],
   "source": [
    "out  = DIS(0.003,100, Enu,process_vector_h, model_vector_h)\n"
   ]
  },
  {
   "cell_type": "code",
   "execution_count": 16,
   "id": "74eecc96",
   "metadata": {},
   "outputs": [
    {
     "name": "stdout",
     "output_type": "stream",
     "text": [
      "{'DC_SQR': 1.4137757654298622e-18}\n",
      "1.4137757654298622e-18\n"
     ]
    }
   ],
   "source": [
    "#print(out.__dict__)\n",
    "print(out)\n",
    "print(out[\"DC_SQR\"])"
   ]
  },
  {
   "cell_type": "code",
   "execution_count": null,
   "id": "638a9b32",
   "metadata": {},
   "outputs": [],
   "source": [
    "DIS_threshhold = 100"
   ]
  },
  {
   "cell_type": "markdown",
   "id": "2e6dc1f4",
   "metadata": {},
   "source": [
    "Now testing it with my mediocre int before building the real thing\n",
    "\n",
    "def DIS(Q2, x_bj,process, TheoryModel, scattering_regime = 'DIS', diagrams=[\"total\"]):\n"
   ]
  },
  {
   "cell_type": "code",
   "execution_count": 17,
   "id": "bafe089e",
   "metadata": {},
   "outputs": [],
   "source": [
    "\n",
    "from scipy import integrate as sint\n",
    "\n"
   ]
  },
  {
   "cell_type": "markdown",
   "id": "f83e596d",
   "metadata": {},
   "source": [
    "n = 10\n",
    "E_nus = np.linspace(100,1000,n)\n",
    "sigs_E = np.zeros(n)\n",
    "err_sigs_E = np.zeros(n)\n",
    "y_max =1\n",
    "x_max =1\n",
    "for i in range(n):\n",
    "        x_min = mN**2/(2*mp*E_nus[i])\n",
    "        sigs_E[i], err_sigs_E[i] =  sint.dblquad(ds_v,x_min,x_max,lambda x: mN**4/(8*mp*x*E_nus[i]**3),y_max, args = (E_nus[i]))\n",
    "\n",
    "\n",
    "\n",
    "sig = sint.dblquad(ds_v,x_min,x_max,lambda x: mN**4/(8*mp*x*E**3),y_max, args = (np.array([Vert,E,anti])))"
   ]
  },
  {
   "cell_type": "code",
   "execution_count": 53,
   "metadata": {},
   "outputs": [],
   "source": [
    "def integrand(E_nus, process, TheoryModel, scattering_regime = 'DIS'):\n",
    "    target  = process.target\n",
    "    M = target.mass\n",
    "    #Z = target.Z atomic nr\n",
    "    mHNL = process.m_ups\n",
    "    n  = len(E_nus)\n",
    "    sigs_E = np.zeros(n)\n",
    "    err_sigs_E = np.zeros(n)\n",
    "    y_max =1\n",
    "    x_max =1\n",
    "    for i in range(n):\n",
    "        x_min = mHNL**2/(2*M*E_nus[i])\n",
    "        sigs_E[i], err_sigs_E[i] =  sint.dblquad(DIS,x_min,x_max,lambda x: mHNL**4/(8*M*x*E_nus[i]**3),\\\n",
    "                                    y_max, args = (np.array([E_nus[i],process,TheoryModel])))\n",
    "\n",
    "    return(sigs_E)\n",
    "\n",
    "\n",
    "\n",
    "\n",
    "\n",
    "\n"
   ]
  },
  {
   "cell_type": "code",
   "execution_count": 54,
   "id": "4500b5ea",
   "metadata": {},
   "outputs": [],
   "source": [
    "E_nus = np.linspace(100,400,20)\n",
    "sigs = integrand(E_nus,process_vector_h,model_vector_h)"
   ]
  },
  {
   "cell_type": "code",
   "execution_count": 55,
   "id": "e1c33502",
   "metadata": {},
   "outputs": [
    {
     "data": {
      "image/png": "[encoded data removed]",
      "text/plain": [
       "<Figure size 432x288 with 1 Axes>"
      ]
     },
     "metadata": {
      "needs_background": "light"
     },
     "output_type": "display_data"
    }
   ],
   "source": [
    "plt.plot(E_nus,sigs*3.89379372*10**(12)/E_nus)\n",
    "plt.show()"
   ]
  },
  {
   "cell_type": "markdown",
   "id": "5d55e5da",
   "metadata": {},
   "source": [
    "\n",
    "    cfg = lhapdf.getConfig()\n",
    "    if target.is_proton == True: #set LHAPDF metadeta\n",
    "        cfg.set_entry(\"Particle\", 2212) #PID of target\n",
    "    elif target.is_neutron == True:\n",
    "        cfg.set_entry(\"Particle\", 2112)"
   ]
  }
 ],
 "metadata": {
  "kernelspec": {
   "display_name": "Python 3.7.5 64-bit",
   "language": "python",
   "name": "python3"
  },
  "language_info": {
   "codemirror_mode": {
    "name": "ipython",
    "version": 3
   },
   "file_extension": ".py",
   "mimetype": "text/x-python",
   "name": "python",
   "nbconvert_exporter": "python",
   "pygments_lexer": "ipython3",
   "version": "3.7.5"
  },
  "vscode": {
   "interpreter": {
    "hash": "31f2aee4e71d21fbe5cf8b01ff0e069b9275f58929596ceb00d14d90e3e16cd6"
   }
  }
 },
 "nbformat": 4,
 "nbformat_minor": 5
}
