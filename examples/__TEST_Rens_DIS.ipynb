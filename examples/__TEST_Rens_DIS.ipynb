{
 "cells": [
  {
   "cell_type": "markdown",
   "id": "chinese-isaac",
   "metadata": {},
   "source": [
    "# Rens' his place to play around in.\n",
    "\n",
    "The contruction of DIS"
   ]
  },
  {
   "cell_type": "code",
   "execution_count": 1,
   "id": "compact-danger",
   "metadata": {},
   "outputs": [],
   "source": [
    "%load_ext autoreload\n",
    "%autoreload 2"
   ]
  },
  {
   "cell_type": "code",
   "execution_count": 1,
   "id": "professional-latitude",
   "metadata": {},
   "outputs": [],
   "source": [
    "import matplotlib.pyplot as plt\n",
    "\n",
    "import numpy as np\n",
    "import pandas as pd\n",
    "import DarkNews as dn\n",
    "\n",
    "\n",
    "import matplotlib.pyplot as plt"
   ]
  },
  {
   "cell_type": "code",
   "execution_count": 2,
   "id": "8dc3f688",
   "metadata": {},
   "outputs": [],
   "source": [
    "# targets\n",
    "proton = dn.detector.NuclearTarget(\"H1\")\n",
    "C12    = dn.detector.NuclearTarget(\"C12\")\n",
    "Ar40   = dn.detector.NuclearTarget(\"Ar40\")"
   ]
  },
  {
   "cell_type": "code",
   "execution_count": 11,
   "id": "c44a2902",
   "metadata": {},
   "outputs": [],
   "source": [
    "import parton as lhapdf #credit LHAPDF"
   ]
  },
  {
   "cell_type": "code",
   "execution_count": 7,
   "id": "dc121666",
   "metadata": {},
   "outputs": [],
   "source": [
    "p = lhapdf.mkPDF('CT18NLO',0,pdfdir='../src/DarkNews/include/pdf_data/')"
   ]
  },
  {
   "cell_type": "code",
   "execution_count": 24,
   "id": "6c0fc75c",
   "metadata": {},
   "outputs": [
    {
     "name": "stdout",
     "output_type": "stream",
     "text": [
      "['__add__', '__class__', '__contains__', '__delattr__', '__delitem__', '__dir__', '__doc__', '__eq__', '__format__', '__ge__', '__getattribute__', '__getitem__', '__gt__', '__hash__', '__iadd__', '__imul__', '__init__', '__init_subclass__', '__iter__', '__le__', '__len__', '__lt__', '__mul__', '__ne__', '__new__', '__reduce__', '__reduce_ex__', '__repr__', '__reversed__', '__rmul__', '__setattr__', '__setitem__', '__sizeof__', '__str__', '__subclasshook__', 'append', 'clear', 'copy', 'count', 'extend', 'index', 'insert', 'pop', 'remove', 'reverse', 'sort']\n",
      "['__annotations__', '__call__', '__class__', '__closure__', '__code__', '__defaults__', '__delattr__', '__dict__', '__dir__', '__doc__', '__eq__', '__format__', '__ge__', '__get__', '__getattribute__', '__globals__', '__gt__', '__hash__', '__init__', '__init_subclass__', '__kwdefaults__', '__le__', '__lt__', '__module__', '__name__', '__ne__', '__new__', '__qualname__', '__reduce__', '__reduce_ex__', '__repr__', '__setattr__', '__sizeof__', '__str__', '__subclasshook__']\n"
     ]
    }
   ],
   "source": [
    "print(dir(lhapdf.__path__))\n",
    "print(dir(lhapdf.mkPDF.xfxQ2))\n"
   ]
  },
  {
   "cell_type": "code",
   "execution_count": 12,
   "id": "685e0e46",
   "metadata": {},
   "outputs": [
    {
     "ename": "AttributeError",
     "evalue": "module 'parton' has no attribute 'getConfig'",
     "output_type": "error",
     "traceback": [
      "\u001b[1;31m---------------------------------------------------------------------------\u001b[0m",
      "\u001b[1;31mAttributeError\u001b[0m                            Traceback (most recent call last)",
      "\u001b[1;32m<ipython-input-12-fd72a9bc1631>\u001b[0m in \u001b[0;36m<module>\u001b[1;34m\u001b[0m\n\u001b[1;32m----> 1\u001b[1;33m \u001b[0mcfg\u001b[0m \u001b[1;33m=\u001b[0m \u001b[0mlhapdf\u001b[0m\u001b[1;33m.\u001b[0m\u001b[0mgetConfig\u001b[0m\u001b[1;33m(\u001b[0m\u001b[1;33m)\u001b[0m\u001b[1;33m\u001b[0m\u001b[1;33m\u001b[0m\u001b[0m\n\u001b[0m\u001b[0;32m      2\u001b[0m \u001b[1;32mif\u001b[0m \u001b[0mtarget\u001b[0m\u001b[1;33m.\u001b[0m\u001b[0mis_proton\u001b[0m \u001b[1;33m==\u001b[0m \u001b[1;32mTrue\u001b[0m\u001b[1;33m:\u001b[0m \u001b[1;31m#set LHAPDF metadeta\u001b[0m\u001b[1;33m\u001b[0m\u001b[1;33m\u001b[0m\u001b[0m\n\u001b[0;32m      3\u001b[0m     \u001b[0mcfg\u001b[0m\u001b[1;33m.\u001b[0m\u001b[0mset_entry\u001b[0m\u001b[1;33m(\u001b[0m\u001b[1;34m\"Particle\"\u001b[0m\u001b[1;33m,\u001b[0m \u001b[1;36m2212\u001b[0m\u001b[1;33m)\u001b[0m \u001b[1;31m#PID of target\u001b[0m\u001b[1;33m\u001b[0m\u001b[1;33m\u001b[0m\u001b[0m\n\u001b[0;32m      4\u001b[0m \u001b[1;32melif\u001b[0m \u001b[0mtarget\u001b[0m\u001b[1;33m.\u001b[0m\u001b[0mis_neutron\u001b[0m \u001b[1;33m==\u001b[0m \u001b[1;32mTrue\u001b[0m\u001b[1;33m:\u001b[0m\u001b[1;33m\u001b[0m\u001b[1;33m\u001b[0m\u001b[0m\n\u001b[0;32m      5\u001b[0m     \u001b[0mcfg\u001b[0m\u001b[1;33m.\u001b[0m\u001b[0mset_entry\u001b[0m\u001b[1;33m(\u001b[0m\u001b[1;34m\"Particle\"\u001b[0m\u001b[1;33m,\u001b[0m \u001b[1;36m2112\u001b[0m\u001b[1;33m)\u001b[0m\u001b[1;33m\u001b[0m\u001b[1;33m\u001b[0m\u001b[0m\n",
      "\u001b[1;31mAttributeError\u001b[0m: module 'parton' has no attribute 'getConfig'"
     ]
    }
   ],
   "source": [
    "\n",
    "    cfg = lhapdf.getConfig()\n",
    "    if target.is_proton == True: #set LHAPDF metadeta\n",
    "        cfg.set_entry(\"Particle\", 2212) #PID of target\n",
    "    elif target.is_neutron == True:\n",
    "        cfg.set_entry(\"Particle\", 2112)"
   ]
  },
  {
   "cell_type": "code",
   "execution_count": null,
   "id": "4536621a",
   "metadata": {},
   "outputs": [],
   "source": []
  },
  {
   "cell_type": "code",
   "execution_count": null,
   "id": "d212486c",
   "metadata": {},
   "outputs": [],
   "source": [
    "def DIS(Q2, x_bj,process, diagrams=[\"total\"])\n",
    "\n",
    "    target = process.target\n",
    "\n",
    "    # masses\n",
    "    M = target.mass\n",
    "    Z = target.Z\n",
    "    mHNL = process.m_ups\n",
    "    mzprime = process.mzprime\n",
    "    MSCALAR = process.mhprime\n",
    "    Enu = process.Enu\n",
    "    \n",
    "    Vhad = process.Vhad # Z' int with had\n",
    "    Vij = process.Vij\n",
    "    Vji = process.Vji\n",
    "    lhapdf.setPaths(['include/pdf_data'])\n",
    "    cfg = lhapdf.getConfig()\n",
    "    if target.is_proton == True: #set LHAPDF metadeta\n",
    "        cfg.set_entry(\"Particle\", 2212) #PID of target\n",
    "    elif target.is_neutron == True:\n",
    "        cfg.set_entry(\"Particle\", 2112)\n",
    "    \n",
    "    del(cfg)\n",
    "    #PDF reading\n",
    "    p = lhapdf.mkPDF(\"CT18NLO\", 0) #allow user to choose +def-CT18?\n",
    "    flavs = p.flavors()[1:-2]#d,u,s,c excluding b and gluon\n",
    "    f_half = 4\n",
    "    R =0.3\n",
    "    R_1 = 1/R #ratio for F_L should be calculated instead\n",
    "    #zeros = np.zeros(f_half)\n",
    "    \n",
    "    g_Z2_V = np.zeros(f_half)\n",
    "    g_Z2_A = np.zeros(f_half)\n",
    "    \n",
    "    g_Z1_V = np.zeros(f_half)\n",
    "    g_Z1_A = np.zeros(f_half)\n",
    "    \n",
    "    g_Z2_V[0] =  g_Z2_V[2] = TheoryModel.ddV #down vectorial\n",
    "    g_Z2_V[1] = g_Z2_V[3] =TheoryModel.duV #up vectorial\n",
    "    g_Z2_A[0] =g_Z2_A[2]  = TheoryModel.ddA #down axial\n",
    "    g_Z2_A[1] =g_Z2_A[3]=  TheoryModel.duA #up axial\n",
    "    \n",
    "    g_Z1_V[0] =  g_Z1_V[2] = TheoryModel.cdV #down vectorial\n",
    "    g_Z1_V[1] = g_Z1_V[3] =TheoryModel.cuV #up vectorial\n",
    "    g_Z1_A[0] =g_Z1_A[2]  = TheoryModel.cdA #down axial\n",
    "    g_Z1_A[1] =g_Z1_A[3]=  TheoryModel.cuA #up axial\n",
    "    \n",
    "    \n",
    "    def Lmunu_Hmunu_DC_SQR_DIS():\n",
    "        xf = np.array(p.xfxQ2(flavs, x, Q2))\n",
    "        F2_Z2 = np.sum((g_Z2_V**2+g_Z2_A**2) *(xf[f_half:]+xf[:f_half]))\n",
    "        xF3_Z2 = np.sum((2*g_Z2_V*g_Z2_A )*(xf[f_half:]-xf[:f_half]))\n",
    "        FL_Z2= (R_1+1)*F2_Z2 \n",
    "        x2F1_Z2 = F2_Z2*(1+4*M**2 * x**2 /Q2)/(1+FL_Z2)\n",
    "        y = Q2/( x*2*M*Enu) \n",
    "        ds1 = 0.5*y**2 *x2F1_Z2 +(1-y-x*y*M/(2*Enu))*F2_Z2 \n",
    "        ds2 = y*(1-y*0.5)*xF3_Z2\n",
    "        anti =1\n",
    "        ds = (Vij*Vji)*(Vhad*Vhad) *M*Enu/(np.pi*(mzprime**2+Q2)**2) *(ds1+anti*ds2)\n",
    "        return(ds)#**2?"
   ]
  }
 ],
 "metadata": {
  "kernelspec": {
   "display_name": "Python 3.7.4 ('base')",
   "language": "python",
   "name": "python3"
  },
  "language_info": {
   "codemirror_mode": {
    "name": "ipython",
    "version": 3
   },
   "file_extension": ".py",
   "mimetype": "text/x-python",
   "name": "python",
   "nbconvert_exporter": "python",
   "pygments_lexer": "ipython3",
   "version": "3.7.4"
  },
  "vscode": {
   "interpreter": {
    "hash": "a977c87e97c80369baaa5c3d2a7088d37d054059aa586c4980c3754f7a56b4c0"
   }
  }
 },
 "nbformat": 4,
 "nbformat_minor": 5
}
